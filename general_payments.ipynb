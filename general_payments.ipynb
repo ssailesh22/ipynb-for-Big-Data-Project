{
 "cells": [
  {
   "cell_type": "code",
   "execution_count": 1,
   "id": "e1c95902-ca1d-4aa3-94a9-854446cd5ff6",
   "metadata": {},
   "outputs": [],
   "source": [
    "import findspark"
   ]
  },
  {
   "cell_type": "code",
   "execution_count": 2,
   "id": "294a05c1-4161-4459-a0bd-85fc4ebdec8e",
   "metadata": {},
   "outputs": [
    {
     "data": {
      "text/plain": [
       "'C:\\\\spark\\\\spark-3.4.3-bin-hadoop3'"
      ]
     },
     "execution_count": 2,
     "metadata": {},
     "output_type": "execute_result"
    }
   ],
   "source": [
    "findspark.init()\n",
    "findspark.find()"
   ]
  },
  {
   "cell_type": "code",
   "execution_count": 3,
   "id": "2bdbe501-b0a5-4fa3-9dba-43d3685ad78c",
   "metadata": {},
   "outputs": [],
   "source": [
    "from pyspark.sql import SparkSession\n",
    "import warnings\n",
    "warnings.filterwarnings(\"ignore\")"
   ]
  },
  {
   "cell_type": "code",
   "execution_count": 4,
   "id": "f4d2abdc-d959-454e-b7ed-306b8f2423e0",
   "metadata": {},
   "outputs": [],
   "source": [
    "spark = SparkSession.builder \\\n",
    "    .appName(\"HDFS File Access\") \\\n",
    "    .config(\"spark.hadoop.fs.defaultFS\", \"hdfs://localhost:9000\") \\\n",
    "    .master(\"local[*]\") \\\n",
    "    .config(\"spark.executor.memory\", \"8g\") \\\n",
    "    .config(\"spark.driver.memory\", \"16g\") \\\n",
    "    .getOrCreate()"
   ]
  },
  {
   "cell_type": "code",
   "execution_count": 5,
   "id": "872f8ac5-5e18-45c1-ab0a-d79a24c9ffd3",
   "metadata": {},
   "outputs": [],
   "source": [
    "# Reading medical precription data from hdfs into a spark dataframe \n",
    "mp_df = spark.read.csv(\"hdfs://localhost:9000/datasets/medical_prescription.csv\",header=True,inferSchema=True)"
   ]
  },
  {
   "cell_type": "code",
   "execution_count": 6,
   "id": "b39cca06-5ff5-4ca5-86c1-fd4f3aae8151",
   "metadata": {},
   "outputs": [],
   "source": [
    "# Reading general payments data from hdfs into a spark dataframe\n",
    "gp_df = spark.read.csv(\"hdfs://localhost:9000/datasets/general_payments.csv\",header=True,inferSchema=True)"
   ]
  },
  {
   "cell_type": "code",
   "execution_count": 205,
   "id": "38c6fecc-9cb0-4b5a-a575-a268172ed364",
   "metadata": {
    "scrolled": true
   },
   "outputs": [
    {
     "data": {
      "text/plain": [
       "[('Prscrbr_NPI', 'int'),\n",
       " ('Prscrbr_Last_Org_Name', 'string'),\n",
       " ('Prscrbr_First_Name', 'string'),\n",
       " ('Prscrbr_City', 'string'),\n",
       " ('Prscrbr_State_Abrvtn', 'string'),\n",
       " ('Prscrbr_State_FIPS', 'string'),\n",
       " ('Prscrbr_Type', 'string'),\n",
       " ('Prscrbr_Type_Src', 'string'),\n",
       " ('Brnd_Name', 'string'),\n",
       " ('Gnrc_Name', 'string'),\n",
       " ('Tot_Clms', 'int'),\n",
       " ('Tot_30day_Fills', 'double'),\n",
       " ('Tot_Day_Suply', 'int'),\n",
       " ('Tot_Drug_Cst', 'double'),\n",
       " ('Tot_Benes', 'int'),\n",
       " ('GE65_Sprsn_Flag', 'string'),\n",
       " ('GE65_Tot_Clms', 'int'),\n",
       " ('GE65_Tot_30day_Fills', 'double'),\n",
       " ('GE65_Tot_Drug_Cst', 'double'),\n",
       " ('GE65_Tot_Day_Suply', 'int'),\n",
       " ('GE65_Bene_Sprsn_Flag', 'string'),\n",
       " ('GE65_Tot_Benes', 'int')]"
      ]
     },
     "execution_count": 205,
     "metadata": {},
     "output_type": "execute_result"
    }
   ],
   "source": [
    "mp_df.dtypes"
   ]
  },
  {
   "cell_type": "code",
   "execution_count": 207,
   "id": "f36e88aa-488e-4684-af6f-c7897e9e64ac",
   "metadata": {
    "scrolled": true
   },
   "outputs": [
    {
     "data": {
      "text/plain": [
       "[('Change_Type', 'string'),\n",
       " ('Covered_Recipient_Type', 'string'),\n",
       " ('Teaching_Hospital_CCN', 'int'),\n",
       " ('Teaching_Hospital_ID', 'int'),\n",
       " ('Teaching_Hospital_Name', 'string'),\n",
       " ('Covered_Recipient_Profile_ID', 'int'),\n",
       " ('Covered_Recipient_NPI', 'int'),\n",
       " ('Covered_Recipient_First_Name', 'string'),\n",
       " ('Covered_Recipient_Middle_Name', 'string'),\n",
       " ('Covered_Recipient_Last_Name', 'string'),\n",
       " ('Covered_Recipient_Name_Suffix', 'string'),\n",
       " ('Recipient_Primary_Business_Street_Address_Line1', 'string'),\n",
       " ('Recipient_Primary_Business_Street_Address_Line2', 'string'),\n",
       " ('Recipient_City', 'string'),\n",
       " ('Recipient_State', 'string'),\n",
       " ('Recipient_Zip_Code', 'string'),\n",
       " ('Recipient_Country', 'string'),\n",
       " ('Recipient_Province', 'string'),\n",
       " ('Recipient_Postal_Code', 'string'),\n",
       " ('Covered_Recipient_Primary_Type_1', 'string'),\n",
       " ('Covered_Recipient_Primary_Type_2', 'string'),\n",
       " ('Covered_Recipient_Primary_Type_3', 'string'),\n",
       " ('Covered_Recipient_Primary_Type_4', 'string'),\n",
       " ('Covered_Recipient_Primary_Type_5', 'string'),\n",
       " ('Covered_Recipient_Primary_Type_6', 'string'),\n",
       " ('Covered_Recipient_Specialty_1', 'string'),\n",
       " ('Covered_Recipient_Specialty_2', 'string'),\n",
       " ('Covered_Recipient_Specialty_3', 'string'),\n",
       " ('Covered_Recipient_Specialty_4', 'string'),\n",
       " ('Covered_Recipient_Specialty_5', 'string'),\n",
       " ('Covered_Recipient_Specialty_6', 'string'),\n",
       " ('Covered_Recipient_License_State_code1', 'string'),\n",
       " ('Covered_Recipient_License_State_code2', 'string'),\n",
       " ('Covered_Recipient_License_State_code3', 'string'),\n",
       " ('Covered_Recipient_License_State_code4', 'string'),\n",
       " ('Covered_Recipient_License_State_code5', 'string'),\n",
       " ('Submitting_Applicable_Manufacturer_or_Applicable_GPO_Name', 'string'),\n",
       " ('Applicable_Manufacturer_or_Applicable_GPO_Making_Payment_ID', 'string'),\n",
       " ('Applicable_Manufacturer_or_Applicable_GPO_Making_Payment_Name', 'string'),\n",
       " ('Applicable_Manufacturer_or_Applicable_GPO_Making_Payment_State', 'string'),\n",
       " ('Applicable_Manufacturer_or_Applicable_GPO_Making_Payment_Country',\n",
       "  'string'),\n",
       " ('Total_Amount_of_Payment_USDollars', 'string'),\n",
       " ('Date_of_Payment', 'string'),\n",
       " ('Number_of_Payments_Included_in_Total_Amount', 'string'),\n",
       " ('Form_of_Payment_or_Transfer_of_Value', 'string'),\n",
       " ('Nature_of_Payment_or_Transfer_of_Value', 'string'),\n",
       " ('City_of_Travel', 'string'),\n",
       " ('State_of_Travel', 'string'),\n",
       " ('Country_of_Travel', 'string'),\n",
       " ('Physician_Ownership_Indicator', 'string'),\n",
       " ('Third_Party_Payment_Recipient_Indicator', 'string'),\n",
       " ('Name_of_Third_Party_Entity_Receiving_Payment_or_Transfer_of_Value',\n",
       "  'string'),\n",
       " ('Charity_Indicator', 'string'),\n",
       " ('Third_Party_Equals_Covered_Recipient_Indicator', 'string'),\n",
       " ('Contextual_Information', 'string'),\n",
       " ('Delay_in_Publication_Indicator', 'string'),\n",
       " ('Record_ID', 'string'),\n",
       " ('Dispute_Status_for_Publication', 'string'),\n",
       " ('Related_Product_Indicator', 'string'),\n",
       " ('Covered_or_Noncovered_Indicator_1', 'string'),\n",
       " ('Indicate_Drug_or_Biological_or_Device_or_Medical_Supply_1', 'string'),\n",
       " ('Product_Category_or_Therapeutic_Area_1', 'string'),\n",
       " ('Name_of_Drug_or_Biological_or_Device_or_Medical_Supply_1', 'string'),\n",
       " ('Associated_Drug_or_Biological_NDC_1', 'string'),\n",
       " ('Associated_Device_or_Medical_Supply_PDI_1', 'string'),\n",
       " ('Covered_or_Noncovered_Indicator_2', 'string'),\n",
       " ('Indicate_Drug_or_Biological_or_Device_or_Medical_Supply_2', 'string'),\n",
       " ('Product_Category_or_Therapeutic_Area_2', 'string'),\n",
       " ('Name_of_Drug_or_Biological_or_Device_or_Medical_Supply_2', 'string'),\n",
       " ('Associated_Drug_or_Biological_NDC_2', 'string'),\n",
       " ('Associated_Device_or_Medical_Supply_PDI_2', 'string'),\n",
       " ('Covered_or_Noncovered_Indicator_3', 'string'),\n",
       " ('Indicate_Drug_or_Biological_or_Device_or_Medical_Supply_3', 'string'),\n",
       " ('Product_Category_or_Therapeutic_Area_3', 'string'),\n",
       " ('Name_of_Drug_or_Biological_or_Device_or_Medical_Supply_3', 'string'),\n",
       " ('Associated_Drug_or_Biological_NDC_3', 'string'),\n",
       " ('Associated_Device_or_Medical_Supply_PDI_3', 'string'),\n",
       " ('Covered_or_Noncovered_Indicator_4', 'string'),\n",
       " ('Indicate_Drug_or_Biological_or_Device_or_Medical_Supply_4', 'string'),\n",
       " ('Product_Category_or_Therapeutic_Area_4', 'string'),\n",
       " ('Name_of_Drug_or_Biological_or_Device_or_Medical_Supply_4', 'string'),\n",
       " ('Associated_Drug_or_Biological_NDC_4', 'string'),\n",
       " ('Associated_Device_or_Medical_Supply_PDI_4', 'string'),\n",
       " ('Covered_or_Noncovered_Indicator_5', 'string'),\n",
       " ('Indicate_Drug_or_Biological_or_Device_or_Medical_Supply_5', 'string'),\n",
       " ('Product_Category_or_Therapeutic_Area_5', 'string'),\n",
       " ('Name_of_Drug_or_Biological_or_Device_or_Medical_Supply_5', 'string'),\n",
       " ('Associated_Drug_or_Biological_NDC_5', 'string'),\n",
       " ('Associated_Device_or_Medical_Supply_PDI_5', 'string'),\n",
       " ('Program_Year', 'string'),\n",
       " ('Payment_Publication_Date', 'string')]"
      ]
     },
     "execution_count": 207,
     "metadata": {},
     "output_type": "execute_result"
    }
   ],
   "source": [
    "gp_df.dtypes"
   ]
  },
  {
   "cell_type": "markdown",
   "id": "57ec8351-cc4a-4372-bdd0-7202a30e3dad",
   "metadata": {},
   "source": [
    "## Data Cleaning for Medical Prescription data"
   ]
  },
  {
   "cell_type": "code",
   "execution_count": 9,
   "id": "42ac1767-9f19-4fdd-bf69-174092d54525",
   "metadata": {},
   "outputs": [],
   "source": [
    "# importing neccessary functions\n",
    "from pyspark.sql.functions import col,isnan,when,count,expr,percentile_approx,median\n",
    "from pyspark.sql import functions as F"
   ]
  },
  {
   "cell_type": "code",
   "execution_count": 10,
   "id": "4dd61071-a4eb-4181-980a-b9905adf966b",
   "metadata": {},
   "outputs": [],
   "source": [
    "total_count = mp_df.count()"
   ]
  },
  {
   "cell_type": "code",
   "execution_count": 11,
   "id": "235f643c-8624-473d-87b7-dff955d24c02",
   "metadata": {},
   "outputs": [
    {
     "data": {
      "text/plain": [
       "25869521"
      ]
     },
     "execution_count": 11,
     "metadata": {},
     "output_type": "execute_result"
    }
   ],
   "source": [
    "total_count"
   ]
  },
  {
   "cell_type": "code",
   "execution_count": 12,
   "id": "fb9d0e55-4c04-4c5e-ab02-758c6c3d7169",
   "metadata": {
    "scrolled": true
   },
   "outputs": [
    {
     "data": {
      "text/plain": [
       "[('GE65_Tot_Benes', 88.91),\n",
       " ('Tot_Benes', 56.08),\n",
       " ('GE65_Sprsn_Flag', 55.06),\n",
       " ('GE65_Tot_Clms', 44.94),\n",
       " ('GE65_Tot_30day_Fills', 44.94),\n",
       " ('GE65_Tot_Drug_Cst', 44.94),\n",
       " ('GE65_Tot_Day_Suply', 44.94),\n",
       " ('GE65_Bene_Sprsn_Flag', 11.09),\n",
       " ('Prscrbr_NPI', 0.0),\n",
       " ('Prscrbr_Last_Org_Name', 0.0),\n",
       " ('Prscrbr_First_Name', 0.0),\n",
       " ('Prscrbr_City', 0.0),\n",
       " ('Prscrbr_State_Abrvtn', 0.0),\n",
       " ('Prscrbr_State_FIPS', 0.0),\n",
       " ('Prscrbr_Type', 0.0),\n",
       " ('Prscrbr_Type_Src', 0.0),\n",
       " ('Brnd_Name', 0.0),\n",
       " ('Gnrc_Name', 0.0),\n",
       " ('Tot_Clms', 0.0),\n",
       " ('Tot_30day_Fills', 0.0),\n",
       " ('Tot_Day_Suply', 0.0),\n",
       " ('Tot_Drug_Cst', 0.0)]"
      ]
     },
     "execution_count": 12,
     "metadata": {},
     "output_type": "execute_result"
    }
   ],
   "source": [
    "# Finding null value percentage for all columns in the dataset\n",
    "null_perc = mp_df.select([(count(when(col(c).isNull() | isnan(c), c)) / total_count).alias(c) for c in mp_df.columns]).collect()\n",
    "null_perc_list = [(c, round(row[c]*100,2)) for row in null_perc for c in mp_df.columns]\n",
    "sorted(null_perc_list, key=lambda x: x[1], reverse=True) # sorting to show null percentages in descending order"
   ]
  },
  {
   "cell_type": "code",
   "execution_count": 13,
   "id": "303b37d8-cfd7-47af-b769-69f0ebbefac1",
   "metadata": {},
   "outputs": [
    {
     "name": "stdout",
     "output_type": "stream",
     "text": [
      "+--------------------+--------+----------+\n",
      "|GE65_Bene_Sprsn_Flag|   count|percentage|\n",
      "+--------------------+--------+----------+\n",
      "|                   *|15553062|     60.12|\n",
      "|                   #| 7447012|     28.79|\n",
      "|                null| 2869447|     11.09|\n",
      "+--------------------+--------+----------+\n",
      "\n"
     ]
    }
   ],
   "source": [
    "# Checking values in GE65_Bene_Sprsn_Flag\n",
    "mp_df.groupBy('GE65_Bene_Sprsn_Flag').agg(F.count('*').alias('count'),F.round((F.count('*') / total_count * 100),2).alias('percentage') ).orderBy('count', ascending=False).show()"
   ]
  },
  {
   "cell_type": "code",
   "execution_count": 14,
   "id": "261fcbf0-f637-4bbe-bd80-f53848bea0d0",
   "metadata": {
    "scrolled": true
   },
   "outputs": [
    {
     "data": {
      "text/plain": [
       "['Prscrbr_NPI',\n",
       " 'Prscrbr_Last_Org_Name',\n",
       " 'Prscrbr_First_Name',\n",
       " 'Prscrbr_City',\n",
       " 'Prscrbr_State_Abrvtn',\n",
       " 'Prscrbr_State_FIPS',\n",
       " 'Prscrbr_Type',\n",
       " 'Prscrbr_Type_Src',\n",
       " 'Brnd_Name',\n",
       " 'Gnrc_Name',\n",
       " 'Tot_Clms',\n",
       " 'Tot_30day_Fills',\n",
       " 'Tot_Day_Suply',\n",
       " 'Tot_Drug_Cst',\n",
       " 'Tot_Benes']"
      ]
     },
     "execution_count": 14,
     "metadata": {},
     "output_type": "execute_result"
    }
   ],
   "source": [
    "# Retrieving list of columns with less than 40% null values\n",
    "non_null_cols = [x for x,y in null_perc_list if y <= 40]\n",
    "non_null_cols.remove('GE65_Bene_Sprsn_Flag') # removing the column GE65_Bene_Sprsn_Flag since all columns the flag corresponds to have been removed due to higher null value count.\n",
    "non_null_cols += ['Tot_Benes'] # adding this column to the list because the null values are left blank purposefully for any value <11.\n",
    "non_null_cols"
   ]
  },
  {
   "cell_type": "code",
   "execution_count": 15,
   "id": "e2e51dfd-3768-4389-8560-fd3e3a9cac16",
   "metadata": {},
   "outputs": [],
   "source": [
    "#Removing columns with null value percentage over 40% except Total_Benes and removing GE65_Bene_Sprsn_Flag due to unknown values.\n",
    "mp_df1 = mp_df.select(non_null_cols)"
   ]
  },
  {
   "cell_type": "code",
   "execution_count": 16,
   "id": "374b7dae-b5f7-4bc1-b906-2bb4704a36e3",
   "metadata": {
    "scrolled": true
   },
   "outputs": [
    {
     "data": {
      "text/plain": [
       "[('Prscrbr_NPI', 'int'),\n",
       " ('Prscrbr_Last_Org_Name', 'string'),\n",
       " ('Prscrbr_First_Name', 'string'),\n",
       " ('Prscrbr_City', 'string'),\n",
       " ('Prscrbr_State_Abrvtn', 'string'),\n",
       " ('Prscrbr_State_FIPS', 'string'),\n",
       " ('Prscrbr_Type', 'string'),\n",
       " ('Prscrbr_Type_Src', 'string'),\n",
       " ('Brnd_Name', 'string'),\n",
       " ('Gnrc_Name', 'string'),\n",
       " ('Tot_Clms', 'int'),\n",
       " ('Tot_30day_Fills', 'double'),\n",
       " ('Tot_Day_Suply', 'int'),\n",
       " ('Tot_Drug_Cst', 'double'),\n",
       " ('Tot_Benes', 'int')]"
      ]
     },
     "execution_count": 16,
     "metadata": {},
     "output_type": "execute_result"
    }
   ],
   "source": [
    "mp_df1.dtypes"
   ]
  },
  {
   "cell_type": "code",
   "execution_count": 17,
   "id": "77283de7-8419-480b-bc41-c83ce5b72b36",
   "metadata": {},
   "outputs": [
    {
     "name": "stdout",
     "output_type": "stream",
     "text": [
      "Value counts for column: Prscrbr_Last_Org_Name\n",
      "+---------------------+------+----------+\n",
      "|Prscrbr_Last_Org_Name| count|percentage|\n",
      "+---------------------+------+----------+\n",
      "|                Patel|148699|      0.57|\n",
      "|                Smith|142360|      0.55|\n",
      "|              Johnson|103453|       0.4|\n",
      "|                  Lee| 89306|      0.35|\n",
      "|               Miller| 84535|      0.33|\n",
      "|             Williams| 82024|      0.32|\n",
      "|               Nguyen| 77355|       0.3|\n",
      "|                Brown| 73651|      0.28|\n",
      "|                Jones| 71673|      0.28|\n",
      "|                Davis| 61448|      0.24|\n",
      "|             Anderson| 55557|      0.21|\n",
      "|                 Shah| 54820|      0.21|\n",
      "|                  Kim| 51668|       0.2|\n",
      "|                 Khan| 51054|       0.2|\n",
      "|               Thomas| 50746|       0.2|\n",
      "|               Wilson| 46212|      0.18|\n",
      "|               Martin| 43689|      0.17|\n",
      "|                Singh| 43351|      0.17|\n",
      "|            Rodriguez| 42141|      0.16|\n",
      "|               Taylor| 41434|      0.16|\n",
      "+---------------------+------+----------+\n",
      "only showing top 20 rows\n",
      "\n",
      "Value counts for column: Prscrbr_First_Name\n",
      "+------------------+------+----------+\n",
      "|Prscrbr_First_Name| count|percentage|\n",
      "+------------------+------+----------+\n",
      "|           Michael|449121|      1.74|\n",
      "|             David|408480|      1.58|\n",
      "|              John|391353|      1.51|\n",
      "|            Robert|320227|      1.24|\n",
      "|             James|311301|       1.2|\n",
      "|          Jennifer|245993|      0.95|\n",
      "|           William|233233|       0.9|\n",
      "|              Mark|214423|      0.83|\n",
      "|            Joseph|185029|      0.72|\n",
      "|            Thomas|183091|      0.71|\n",
      "|       Christopher|181668|       0.7|\n",
      "|            Daniel|180463|       0.7|\n",
      "|           Richard|178706|      0.69|\n",
      "|           Matthew|153405|      0.59|\n",
      "|           Jeffrey|152955|      0.59|\n",
      "|            Steven|147887|      0.57|\n",
      "|         Elizabeth|139079|      0.54|\n",
      "|              Paul|137705|      0.53|\n",
      "|             Sarah|131700|      0.51|\n",
      "|             Brian|129580|       0.5|\n",
      "+------------------+------+----------+\n",
      "only showing top 20 rows\n",
      "\n",
      "Value counts for column: Prscrbr_City\n",
      "+------------+------+----------+\n",
      "|Prscrbr_City| count|percentage|\n",
      "+------------+------+----------+\n",
      "|    New York|230676|      0.89|\n",
      "|     Houston|189947|      0.73|\n",
      "|    Brooklyn|179390|      0.69|\n",
      "|     Chicago|163309|      0.63|\n",
      "| Los Angeles|157751|      0.61|\n",
      "|Philadelphia|149674|      0.58|\n",
      "|       Miami|149538|      0.58|\n",
      "| Springfield|123277|      0.48|\n",
      "| San Antonio|116945|      0.45|\n",
      "|   Rochester|115043|      0.44|\n",
      "|    Columbus|114237|      0.44|\n",
      "|      Dallas|111095|      0.43|\n",
      "|Jacksonville|102867|       0.4|\n",
      "| Saint Louis|102464|       0.4|\n",
      "|       Bronx|101422|      0.39|\n",
      "|  Pittsburgh|100840|      0.39|\n",
      "|     Phoenix|100108|      0.39|\n",
      "|   Cleveland| 99753|      0.39|\n",
      "|    Portland| 99294|      0.38|\n",
      "|   Las Vegas| 97550|      0.38|\n",
      "+------------+------+----------+\n",
      "only showing top 20 rows\n",
      "\n",
      "Value counts for column: Prscrbr_State_Abrvtn\n",
      "+--------------------+-------+----------+\n",
      "|Prscrbr_State_Abrvtn|  count|percentage|\n",
      "+--------------------+-------+----------+\n",
      "|                  CA|2380329|       9.2|\n",
      "|                  FL|1865305|      7.21|\n",
      "|                  TX|1714636|      6.63|\n",
      "|                  NY|1683019|      6.51|\n",
      "|                  PA|1255345|      4.85|\n",
      "|                  OH|1064656|      4.12|\n",
      "|                  NC| 928344|      3.59|\n",
      "|                  MI| 910305|      3.52|\n",
      "|                  IL| 891352|      3.45|\n",
      "|                  GA| 737793|      2.85|\n",
      "|                  TN| 659854|      2.55|\n",
      "|                  NJ| 651726|      2.52|\n",
      "|                  MA| 613759|      2.37|\n",
      "|                  IN| 587530|      2.27|\n",
      "|                  VA| 572710|      2.21|\n",
      "|                  MO| 562967|      2.18|\n",
      "|                  WA| 507125|      1.96|\n",
      "|                  WI| 495613|      1.92|\n",
      "|                  KY| 486191|      1.88|\n",
      "|                  AZ| 474623|      1.83|\n",
      "+--------------------+-------+----------+\n",
      "only showing top 20 rows\n",
      "\n",
      "Value counts for column: Prscrbr_State_FIPS\n",
      "+------------------+-------+----------+\n",
      "|Prscrbr_State_FIPS|  count|percentage|\n",
      "+------------------+-------+----------+\n",
      "|                06|2380329|       9.2|\n",
      "|                12|1865305|      7.21|\n",
      "|                48|1714636|      6.63|\n",
      "|                36|1683019|      6.51|\n",
      "|                42|1255345|      4.85|\n",
      "|                39|1064656|      4.12|\n",
      "|                37| 928344|      3.59|\n",
      "|                26| 910305|      3.52|\n",
      "|                17| 891352|      3.45|\n",
      "|                13| 737793|      2.85|\n",
      "|                47| 659854|      2.55|\n",
      "|                34| 651726|      2.52|\n",
      "|                25| 613759|      2.37|\n",
      "|                18| 587530|      2.27|\n",
      "|                51| 572710|      2.21|\n",
      "|                29| 562967|      2.18|\n",
      "|                53| 507125|      1.96|\n",
      "|                55| 495613|      1.92|\n",
      "|                21| 486191|      1.88|\n",
      "|                04| 474623|      1.83|\n",
      "+------------------+-------+----------+\n",
      "only showing top 20 rows\n",
      "\n",
      "Value counts for column: Prscrbr_Type\n",
      "+-------------------+-------+----------+\n",
      "|       Prscrbr_Type|  count|percentage|\n",
      "+-------------------+-------+----------+\n",
      "|    Family Practice|6651765|     25.71|\n",
      "|  Internal Medicine|5603062|     21.66|\n",
      "| Nurse Practitioner|5053595|     19.53|\n",
      "|Physician Assistant|1878231|      7.26|\n",
      "|         Cardiology| 710812|      2.75|\n",
      "|         Psychiatry| 547364|      2.12|\n",
      "|   General Practice| 407701|      1.58|\n",
      "|          Neurology| 386005|      1.49|\n",
      "|      Endocrinology| 271592|      1.05|\n",
      "|      Ophthalmology| 260765|      1.01|\n",
      "|         Nephrology| 253344|      0.98|\n",
      "| Emergency Medicine| 250358|      0.97|\n",
      "|            Dentist| 236262|      0.91|\n",
      "|  Pulmonary Disease| 220058|      0.85|\n",
      "|   Gastroenterology| 216517|      0.84|\n",
      "|Hematology-Oncology| 184021|      0.71|\n",
      "|        Dermatology| 181768|       0.7|\n",
      "|            Urology| 163666|      0.63|\n",
      "|       Rheumatology| 155753|       0.6|\n",
      "|        Hospitalist| 146475|      0.57|\n",
      "+-------------------+-------+----------+\n",
      "only showing top 20 rows\n",
      "\n",
      "Value counts for column: Prscrbr_Type_Src\n",
      "+----------------+--------+----------+\n",
      "|Prscrbr_Type_Src|   count|percentage|\n",
      "+----------------+--------+----------+\n",
      "| Claim-Specialty|23343200|     90.23|\n",
      "| NPPES-Specialty| 2020611|      7.81|\n",
      "|  NPPES-Taxonomy|  505710|      1.95|\n",
      "+----------------+--------+----------+\n",
      "\n",
      "Value counts for column: Brnd_Name\n",
      "+--------------------+------+----------+\n",
      "|           Brnd_Name| count|percentage|\n",
      "+--------------------+------+----------+\n",
      "|Atorvastatin Calcium|349654|      1.35|\n",
      "|          Gabapentin|347636|      1.34|\n",
      "| Amlodipine Besylate|323306|      1.25|\n",
      "|          Lisinopril|302922|      1.17|\n",
      "|  Losartan Potassium|279466|      1.08|\n",
      "|          Omeprazole|275631|      1.07|\n",
      "| Pantoprazole Sodium|274623|      1.06|\n",
      "|          Furosemide|270640|      1.05|\n",
      "|          Prednisone|270544|      1.05|\n",
      "|Levothyroxine Sodium|267866|      1.04|\n",
      "|Metoprolol Succinate|263555|      1.02|\n",
      "|       Metformin Hcl|241911|      0.94|\n",
      "| Hydrochlorothiazide|241275|      0.93|\n",
      "|Albuterol Sulfate...|240874|      0.93|\n",
      "|       Trazodone Hcl|232982|       0.9|\n",
      "|Hydrocodone-Aceta...|232140|       0.9|\n",
      "| Metoprolol Tartrate|229198|      0.89|\n",
      "|             Eliquis|228945|      0.88|\n",
      "|Rosuvastatin Calcium|226398|      0.88|\n",
      "|      Sertraline Hcl|222743|      0.86|\n",
      "+--------------------+------+----------+\n",
      "only showing top 20 rows\n",
      "\n",
      "Value counts for column: Gnrc_Name\n",
      "+--------------------+------+----------+\n",
      "|           Gnrc_Name| count|percentage|\n",
      "+--------------------+------+----------+\n",
      "|Levothyroxine Sodium|414769|       1.6|\n",
      "|       Metformin Hcl|393925|      1.52|\n",
      "|Atorvastatin Calcium|350028|      1.35|\n",
      "|          Gabapentin|348541|      1.35|\n",
      "| Amlodipine Besylate|323686|      1.25|\n",
      "|   Albuterol Sulfate|316860|      1.22|\n",
      "|          Lisinopril|302966|      1.17|\n",
      "|  Losartan Potassium|279686|      1.08|\n",
      "|          Omeprazole|275631|      1.07|\n",
      "| Pantoprazole Sodium|274854|      1.06|\n",
      "|          Furosemide|270722|      1.05|\n",
      "|          Prednisone|270681|      1.05|\n",
      "|Metoprolol Succinate|265031|      1.02|\n",
      "|Fluticasone Propi...|241369|      0.93|\n",
      "| Hydrochlorothiazide|241275|      0.93|\n",
      "|  Potassium Chloride|234333|      0.91|\n",
      "|       Trazodone Hcl|232982|       0.9|\n",
      "|Hydrocodone/Aceta...|232151|       0.9|\n",
      "| Metoprolol Tartrate|229209|      0.89|\n",
      "|            Apixaban|228945|      0.88|\n",
      "+--------------------+------+----------+\n",
      "only showing top 20 rows\n",
      "\n"
     ]
    }
   ],
   "source": [
    "# Checking for unique values\n",
    "for column,dtype in mp_df1.dtypes:\n",
    "    if dtype == 'string':\n",
    "        print(f\"Value counts for column: {column}\")\n",
    "        mp_df1.groupBy(column).agg(F.count('*').alias('count'),F.round((F.count('*') / total_count * 100),2).alias('percentage') ).orderBy('count', ascending=False).show()"
   ]
  },
  {
   "cell_type": "code",
   "execution_count": 18,
   "id": "345a2a61-b6e2-4f52-b083-9883d38263c0",
   "metadata": {},
   "outputs": [],
   "source": [
    "# removing \"Prscrbr_Type_Src\" as the column is biased towards a single value with over 90% of the values being the same.\n",
    "non_null_cols.remove('Prscrbr_Type_Src')"
   ]
  },
  {
   "cell_type": "code",
   "execution_count": 19,
   "id": "dce0ca89-29d0-43ac-be99-6ee3caca27fe",
   "metadata": {
    "scrolled": true
   },
   "outputs": [
    {
     "data": {
      "text/plain": [
       "[('Prscrbr_NPI', 'int'),\n",
       " ('Prscrbr_Last_Org_Name', 'string'),\n",
       " ('Prscrbr_First_Name', 'string'),\n",
       " ('Prscrbr_City', 'string'),\n",
       " ('Prscrbr_State_Abrvtn', 'string'),\n",
       " ('Prscrbr_State_FIPS', 'string'),\n",
       " ('Prscrbr_Type', 'string'),\n",
       " ('Brnd_Name', 'string'),\n",
       " ('Gnrc_Name', 'string'),\n",
       " ('Tot_Clms', 'int'),\n",
       " ('Tot_30day_Fills', 'double'),\n",
       " ('Tot_Day_Suply', 'int'),\n",
       " ('Tot_Drug_Cst', 'double'),\n",
       " ('Tot_Benes', 'int')]"
      ]
     },
     "execution_count": 19,
     "metadata": {},
     "output_type": "execute_result"
    }
   ],
   "source": [
    "mp_df1 = mp_df1.select(non_null_cols)\n",
    "mp_df1.dtypes"
   ]
  },
  {
   "cell_type": "code",
   "execution_count": 23,
   "id": "5733be45-dda4-4bb4-ad1c-b2a99eac956f",
   "metadata": {},
   "outputs": [
    {
     "data": {
      "text/plain": [
       "['Tot_Clms', 'Tot_30day_Fills', 'Tot_Day_Suply', 'Tot_Drug_Cst', 'Tot_Benes']"
      ]
     },
     "execution_count": 23,
     "metadata": {},
     "output_type": "execute_result"
    }
   ],
   "source": [
    "numeric_cols = [x for x,y in mp_df1.dtypes if y != 'string']\n",
    "numeric_cols.remove('Prscrbr_NPI') # since it is an identifier\n",
    "numeric_cols"
   ]
  },
  {
   "cell_type": "code",
   "execution_count": 24,
   "id": "c4c0c023-ec20-4892-a8c0-ed1508e18938",
   "metadata": {},
   "outputs": [
    {
     "name": "stdout",
     "output_type": "stream",
     "text": [
      "Tot_Clms: 25th percentile = 15.0, 50th percentile = 25.0, 75th percentile = 50.0\n",
      "Tot_30day_Fills: 25th percentile = 22.0, 50th percentile = 40.1, 75th percentile = 88.0\n",
      "Tot_Day_Suply: 25th percentile = 510.0, 50th percentile = 1103.0, 75th percentile = 2490.0\n",
      "Tot_Drug_Cst: 25th percentile = 253.08, 50th percentile = 636.77, 75th percentile = 2042.47\n",
      "Tot_Benes: 25th percentile = 14.0, 50th percentile = 20.0, 75th percentile = 34.0\n"
     ]
    }
   ],
   "source": [
    "percentiles = [0.25,0.5,0.75]\n",
    "perc_vals = {}\n",
    "for col_name in numeric_cols:\n",
    "    perc_vals[col_name] = mp_df1.approxQuantile(col_name, percentiles, 0.01)\n",
    "\n",
    "for col,val in perc_vals.items():\n",
    "    print(f'{col}: 25th percentile = {val[0]}, 50th percentile = {val[1]}, 75th percentile = {val[2]}')"
   ]
  },
  {
   "cell_type": "code",
   "execution_count": 25,
   "id": "c3f6bca6-6dd1-4b65-b9f4-c114c9ae77b5",
   "metadata": {},
   "outputs": [
    {
     "name": "stdout",
     "output_type": "stream",
     "text": [
      "Tot_Clms: lower_bound = -37.5, upper_bound = 102.5\n",
      "Tot_30day_Fills: lower_bound = -77.0, upper_bound = 187.0\n",
      "Tot_Day_Suply: lower_bound = -2460.0, upper_bound = 5460.0\n",
      "Tot_Drug_Cst: lower_bound = -2431.005, upper_bound = 4726.555\n",
      "Tot_Benes: lower_bound = -16.0, upper_bound = 64.0\n"
     ]
    }
   ],
   "source": [
    "for col_name,val in perc_vals.items():\n",
    "    if col_name not in ['Prscrbr_NPI']:\n",
    "        lower = val[0] - 1.5 * (val[2] - val[0])\n",
    "        upper = val[2] + 1.5 * (val[2] - val[0])\n",
    "        print(f'{col_name}: lower_bound = {lower}, upper_bound = {upper}')"
   ]
  },
  {
   "cell_type": "code",
   "execution_count": 26,
   "id": "29eb95bd-dfb8-454c-84ca-962dd2a4a940",
   "metadata": {
    "scrolled": true
   },
   "outputs": [
    {
     "name": "stdout",
     "output_type": "stream",
     "text": [
      "+-------+------------------+-----------------+------------------+-----------------+-----------------+\n",
      "|summary|          Tot_Clms|  Tot_30day_Fills|     Tot_Day_Suply|     Tot_Drug_Cst|        Tot_Benes|\n",
      "+-------+------------------+-----------------+------------------+-----------------+-----------------+\n",
      "|  count|          25869521|         25869521|          25869521|         25869521|         11362619|\n",
      "|   mean| 51.32395400749786|94.32606860404812|2666.8088683590236|7080.106426521477|30.92538991230807|\n",
      "| stddev|120.05501083369062| 194.574257112663| 5249.050779356042|50637.31018307316|96.32806750745658|\n",
      "|    min|                11|             11.0|                 8|              0.0|               11|\n",
      "|    max|            228252|         228430.4|            760312|    4.468290608E7|           170281|\n",
      "+-------+------------------+-----------------+------------------+-----------------+-----------------+\n",
      "\n"
     ]
    }
   ],
   "source": [
    "mp_df1.select(numeric_cols).describe().show()"
   ]
  },
  {
   "cell_type": "code",
   "execution_count": 31,
   "id": "ac3f9bbb-cc8b-404d-8fcf-1be8b6692b3b",
   "metadata": {},
   "outputs": [],
   "source": [
    "mp_df1 = mp_df1.filter(F.col('Tot_Drug_Cst') <= 4726) # removing records where Tot_Drug_Cst is greater than the upper bound of the IQR"
   ]
  },
  {
   "cell_type": "code",
   "execution_count": 32,
   "id": "c29087e0-5f05-4ca8-9121-46b123e681a6",
   "metadata": {},
   "outputs": [
    {
     "name": "stdout",
     "output_type": "stream",
     "text": [
      "+-------+-----------------+------------------+-----------------+-----------------+-----------------+\n",
      "|summary|         Tot_Clms|   Tot_30day_Fills|    Tot_Day_Suply|     Tot_Drug_Cst|        Tot_Benes|\n",
      "+-------+-----------------+------------------+-----------------+-----------------+-----------------+\n",
      "|  count|         21779068|          21779068|         21779068|         21779068|          9832296|\n",
      "|   mean|43.81498579278048|  82.2831696012091|2316.227989554007|848.8223249511836|26.95466369197998|\n",
      "| stddev|54.60278903711289|122.25894119835078|3670.557250985592|945.4379715540107|22.33862267082318|\n",
      "|    min|               11|              11.0|                8|              0.0|               11|\n",
      "|    max|             2421|            4096.3|           122889|           4726.0|             1401|\n",
      "+-------+-----------------+------------------+-----------------+-----------------+-----------------+\n",
      "\n"
     ]
    }
   ],
   "source": [
    "mp_df1.select(numeric_cols).describe().show()"
   ]
  },
  {
   "cell_type": "code",
   "execution_count": 55,
   "id": "19c1c722-53b7-47c0-b674-871f953189d3",
   "metadata": {},
   "outputs": [],
   "source": [
    "mp_df1 = mp_df1.filter(F.col('Tot_Drug_Cst') != 0) # Filtering out records with Drug cost of 0 since that doesn't make sense"
   ]
  },
  {
   "cell_type": "code",
   "execution_count": 56,
   "id": "a76949af-8b8d-4ccd-a2d6-3e2b7a906872",
   "metadata": {},
   "outputs": [
    {
     "data": {
      "text/plain": [
       "21776965"
      ]
     },
     "execution_count": 56,
     "metadata": {},
     "output_type": "execute_result"
    }
   ],
   "source": [
    "mp_df1.count()"
   ]
  },
  {
   "cell_type": "code",
   "execution_count": 57,
   "id": "a2ef1ffc-5212-42b7-a96b-56ce8399a300",
   "metadata": {},
   "outputs": [
    {
     "name": "stdout",
     "output_type": "stream",
     "text": [
      "+-------+-----------------+------------------+------------------+-----------------+------------------+\n",
      "|summary|         Tot_Clms|   Tot_30day_Fills|     Tot_Day_Suply|     Tot_Drug_Cst|         Tot_Benes|\n",
      "+-------+-----------------+------------------+------------------+-----------------+------------------+\n",
      "|  count|         21776965|          21776965|          21776965|         21776965|           9832259|\n",
      "|   mean|43.81781543020343| 82.28860554720394|2316.3795447161715|848.9042956642455| 26.95469189735543|\n",
      "| stddev|54.60462923980024|122.26348414279704|3670.6987331196074|945.4468213943493|22.338610026746068|\n",
      "|    min|               11|              11.0|                 8|             0.01|                11|\n",
      "|    max|             2421|            4096.3|            122889|           4726.0|              1401|\n",
      "+-------+-----------------+------------------+------------------+-----------------+------------------+\n",
      "\n"
     ]
    }
   ],
   "source": [
    "mp_df1.select(numeric_cols).describe().show()"
   ]
  },
  {
   "cell_type": "code",
   "execution_count": 62,
   "id": "315c4ef3-af49-470a-b853-6f239eb02b4d",
   "metadata": {},
   "outputs": [],
   "source": [
    "mp_df_final = mp_df1"
   ]
  },
  {
   "cell_type": "markdown",
   "id": "6c0478d2-ecb0-4eb1-9af5-8a35582fc4db",
   "metadata": {},
   "source": [
    "## Data Cleaning for General Payment data"
   ]
  },
  {
   "cell_type": "code",
   "execution_count": 35,
   "id": "d8eabdc5-62ae-426c-a49d-4e05dd1fd190",
   "metadata": {},
   "outputs": [],
   "source": [
    "total_count = gp_df.count()"
   ]
  },
  {
   "cell_type": "code",
   "execution_count": 36,
   "id": "272e0f32-95dc-42e9-aba2-be397a0ff185",
   "metadata": {},
   "outputs": [
    {
     "data": {
      "text/plain": [
       "13286470"
      ]
     },
     "execution_count": 36,
     "metadata": {},
     "output_type": "execute_result"
    }
   ],
   "source": [
    "total_count"
   ]
  },
  {
   "cell_type": "code",
   "execution_count": 37,
   "id": "767a8643-1b2d-44e7-b0b0-3fade01d3ceb",
   "metadata": {
    "scrolled": true
   },
   "outputs": [
    {
     "data": {
      "text/plain": [
       "[('Recipient_Province', 100.0),\n",
       " ('Recipient_Postal_Code', 100.0),\n",
       " ('Covered_Recipient_Specialty_2', 100.0),\n",
       " ('Covered_Recipient_Specialty_3', 100.0),\n",
       " ('Covered_Recipient_Specialty_4', 100.0),\n",
       " ('Covered_Recipient_Specialty_5', 100.0),\n",
       " ('Covered_Recipient_Specialty_6', 100.0),\n",
       " ('Covered_Recipient_Primary_Type_3', 99.99),\n",
       " ('Covered_Recipient_Primary_Type_4', 99.99),\n",
       " ('Covered_Recipient_Primary_Type_5', 99.99),\n",
       " ('Covered_Recipient_Primary_Type_6', 99.99),\n",
       " ('Covered_Recipient_Primary_Type_2', 99.98),\n",
       " ('Covered_Recipient_License_State_code5', 99.97),\n",
       " ('Covered_Recipient_License_State_code4', 99.88),\n",
       " ('Associated_Device_or_Medical_Supply_PDI_5', 99.73),\n",
       " ('Teaching_Hospital_CCN', 99.71),\n",
       " ('Teaching_Hospital_ID', 99.71),\n",
       " ('Teaching_Hospital_Name', 99.71),\n",
       " ('Associated_Device_or_Medical_Supply_PDI_4', 99.64),\n",
       " ('Covered_Recipient_License_State_code3', 99.55),\n",
       " ('Associated_Drug_or_Biological_NDC_5', 99.47),\n",
       " ('Associated_Device_or_Medical_Supply_PDI_3', 99.38),\n",
       " ('Name_of_Third_Party_Entity_Receiving_Payment_or_Transfer_of_Value', 99.35),\n",
       " ('Third_Party_Equals_Covered_Recipient_Indicator', 99.23),\n",
       " ('Product_Category_or_Therapeutic_Area_5', 99.16),\n",
       " ('Covered_or_Noncovered_Indicator_5', 99.14),\n",
       " ('Indicate_Drug_or_Biological_or_Device_or_Medical_Supply_5', 99.14),\n",
       " ('Name_of_Drug_or_Biological_or_Device_or_Medical_Supply_5', 99.14),\n",
       " ('Associated_Drug_or_Biological_NDC_4', 98.47),\n",
       " ('Associated_Device_or_Medical_Supply_PDI_2', 98.4),\n",
       " ('Covered_Recipient_License_State_code2', 98.3),\n",
       " ('Covered_Recipient_Name_Suffix', 98.19),\n",
       " ('Name_of_Drug_or_Biological_or_Device_or_Medical_Supply_4', 98.03),\n",
       " ('Product_Category_or_Therapeutic_Area_4', 98.02),\n",
       " ('Indicate_Drug_or_Biological_or_Device_or_Medical_Supply_4', 98.01),\n",
       " ('Covered_or_Noncovered_Indicator_4', 97.99),\n",
       " ('Associated_Drug_or_Biological_NDC_3', 96.72),\n",
       " ('State_of_Travel', 96.52),\n",
       " ('City_of_Travel', 96.45),\n",
       " ('Country_of_Travel', 96.45),\n",
       " ('Name_of_Drug_or_Biological_or_Device_or_Medical_Supply_3', 95.91),\n",
       " ('Product_Category_or_Therapeutic_Area_3', 95.9),\n",
       " ('Indicate_Drug_or_Biological_or_Device_or_Medical_Supply_3', 95.89),\n",
       " ('Covered_or_Noncovered_Indicator_3', 95.86),\n",
       " ('Contextual_Information', 94.31),\n",
       " ('Associated_Device_or_Medical_Supply_PDI_1', 86.51),\n",
       " ('Associated_Drug_or_Biological_NDC_2', 86.09),\n",
       " ('Name_of_Drug_or_Biological_or_Device_or_Medical_Supply_2', 84.14),\n",
       " ('Product_Category_or_Therapeutic_Area_2', 84.13),\n",
       " ('Indicate_Drug_or_Biological_or_Device_or_Medical_Supply_2', 84.12),\n",
       " ('Covered_or_Noncovered_Indicator_2', 83.92),\n",
       " ('Recipient_Primary_Business_Street_Address_Line2', 77.29),\n",
       " ('Charity_Indicator', 68.63),\n",
       " ('Covered_Recipient_Middle_Name', 41.18),\n",
       " ('Associated_Drug_or_Biological_NDC_1', 27.25),\n",
       " ('Physician_Ownership_Indicator', 12.91),\n",
       " ('Name_of_Drug_or_Biological_or_Device_or_Medical_Supply_1', 7.47),\n",
       " ('Indicate_Drug_or_Biological_or_Device_or_Medical_Supply_1', 7.33),\n",
       " ('Product_Category_or_Therapeutic_Area_1', 7.28),\n",
       " ('Covered_or_Noncovered_Indicator_1', 5.52),\n",
       " ('Applicable_Manufacturer_or_Applicable_GPO_Making_Payment_State', 0.87),\n",
       " ('Covered_Recipient_NPI', 0.39),\n",
       " ('Covered_Recipient_Profile_ID', 0.29),\n",
       " ('Covered_Recipient_First_Name', 0.29),\n",
       " ('Covered_Recipient_Last_Name', 0.29),\n",
       " ('Covered_Recipient_Primary_Type_1', 0.29),\n",
       " ('Covered_Recipient_Specialty_1', 0.29),\n",
       " ('Covered_Recipient_License_State_code1', 0.29),\n",
       " ('Change_Type', 0.0),\n",
       " ('Covered_Recipient_Type', 0.0),\n",
       " ('Recipient_Primary_Business_Street_Address_Line1', 0.0),\n",
       " ('Recipient_City', 0.0),\n",
       " ('Recipient_State', 0.0),\n",
       " ('Recipient_Zip_Code', 0.0),\n",
       " ('Recipient_Country', 0.0),\n",
       " ('Submitting_Applicable_Manufacturer_or_Applicable_GPO_Name', 0.0),\n",
       " ('Applicable_Manufacturer_or_Applicable_GPO_Making_Payment_ID', 0.0),\n",
       " ('Applicable_Manufacturer_or_Applicable_GPO_Making_Payment_Name', 0.0),\n",
       " ('Applicable_Manufacturer_or_Applicable_GPO_Making_Payment_Country', 0.0),\n",
       " ('Total_Amount_of_Payment_USDollars', 0.0),\n",
       " ('Date_of_Payment', 0.0),\n",
       " ('Number_of_Payments_Included_in_Total_Amount', 0.0),\n",
       " ('Form_of_Payment_or_Transfer_of_Value', 0.0),\n",
       " ('Nature_of_Payment_or_Transfer_of_Value', 0.0),\n",
       " ('Third_Party_Payment_Recipient_Indicator', 0.0),\n",
       " ('Delay_in_Publication_Indicator', 0.0),\n",
       " ('Record_ID', 0.0),\n",
       " ('Dispute_Status_for_Publication', 0.0),\n",
       " ('Related_Product_Indicator', 0.0),\n",
       " ('Program_Year', 0.0),\n",
       " ('Payment_Publication_Date', 0.0)]"
      ]
     },
     "execution_count": 37,
     "metadata": {},
     "output_type": "execute_result"
    }
   ],
   "source": [
    "# Finding null value percentage for all columns in the dataset\n",
    "null_perc = gp_df.select([(count(when(F.col(c).isNull() | isnan(c), c)) / total_count).alias(c) for c in gp_df.columns]).collect()\n",
    "null_perc_list = [(c, round(row[c]*100,2)) for row in null_perc for c in gp_df.columns]\n",
    "sorted(null_perc_list, key=lambda x: x[1], reverse=True) # sorting to show null percentages in descending order"
   ]
  },
  {
   "cell_type": "code",
   "execution_count": 38,
   "id": "5f3bb5b5-4cdd-4d38-8b1a-cfa2665a92d7",
   "metadata": {
    "scrolled": true
   },
   "outputs": [
    {
     "data": {
      "text/plain": [
       "['Change_Type',\n",
       " 'Covered_Recipient_Type',\n",
       " 'Covered_Recipient_Profile_ID',\n",
       " 'Covered_Recipient_NPI',\n",
       " 'Covered_Recipient_First_Name',\n",
       " 'Covered_Recipient_Last_Name',\n",
       " 'Recipient_Primary_Business_Street_Address_Line1',\n",
       " 'Recipient_City',\n",
       " 'Recipient_State',\n",
       " 'Recipient_Zip_Code',\n",
       " 'Recipient_Country',\n",
       " 'Covered_Recipient_Primary_Type_1',\n",
       " 'Covered_Recipient_Specialty_1',\n",
       " 'Covered_Recipient_License_State_code1',\n",
       " 'Submitting_Applicable_Manufacturer_or_Applicable_GPO_Name',\n",
       " 'Applicable_Manufacturer_or_Applicable_GPO_Making_Payment_ID',\n",
       " 'Applicable_Manufacturer_or_Applicable_GPO_Making_Payment_Name',\n",
       " 'Applicable_Manufacturer_or_Applicable_GPO_Making_Payment_State',\n",
       " 'Applicable_Manufacturer_or_Applicable_GPO_Making_Payment_Country',\n",
       " 'Total_Amount_of_Payment_USDollars',\n",
       " 'Date_of_Payment',\n",
       " 'Number_of_Payments_Included_in_Total_Amount',\n",
       " 'Form_of_Payment_or_Transfer_of_Value',\n",
       " 'Nature_of_Payment_or_Transfer_of_Value',\n",
       " 'Physician_Ownership_Indicator',\n",
       " 'Third_Party_Payment_Recipient_Indicator',\n",
       " 'Delay_in_Publication_Indicator',\n",
       " 'Record_ID',\n",
       " 'Dispute_Status_for_Publication',\n",
       " 'Related_Product_Indicator',\n",
       " 'Covered_or_Noncovered_Indicator_1',\n",
       " 'Indicate_Drug_or_Biological_or_Device_or_Medical_Supply_1',\n",
       " 'Product_Category_or_Therapeutic_Area_1',\n",
       " 'Name_of_Drug_or_Biological_or_Device_or_Medical_Supply_1',\n",
       " 'Associated_Drug_or_Biological_NDC_1',\n",
       " 'Program_Year',\n",
       " 'Payment_Publication_Date']"
      ]
     },
     "execution_count": 38,
     "metadata": {},
     "output_type": "execute_result"
    }
   ],
   "source": [
    "# Filtering out records that have more that 40% null values\n",
    "non_null_cols = [x for x,y in null_perc_list if y <= 40]\n",
    "non_null_cols"
   ]
  },
  {
   "cell_type": "code",
   "execution_count": 39,
   "id": "95a3cd42-5f26-43ac-9902-08815add2e13",
   "metadata": {},
   "outputs": [],
   "source": [
    "#Removing columns with null value percentage over 40% except Total_Benes and removing GE65_Bene_Sprsn_Flag due to unknown values.\n",
    "gp_df1 = gp_df.select(non_null_cols)"
   ]
  },
  {
   "cell_type": "code",
   "execution_count": 40,
   "id": "6d31e852-db25-479f-aeb5-e160cdcc05d7",
   "metadata": {
    "scrolled": true
   },
   "outputs": [
    {
     "data": {
      "text/plain": [
       "[('Change_Type', 'string'),\n",
       " ('Covered_Recipient_Type', 'string'),\n",
       " ('Covered_Recipient_Profile_ID', 'int'),\n",
       " ('Covered_Recipient_NPI', 'int'),\n",
       " ('Covered_Recipient_First_Name', 'string'),\n",
       " ('Covered_Recipient_Last_Name', 'string'),\n",
       " ('Recipient_Primary_Business_Street_Address_Line1', 'string'),\n",
       " ('Recipient_City', 'string'),\n",
       " ('Recipient_State', 'string'),\n",
       " ('Recipient_Zip_Code', 'string'),\n",
       " ('Recipient_Country', 'string'),\n",
       " ('Covered_Recipient_Primary_Type_1', 'string'),\n",
       " ('Covered_Recipient_Specialty_1', 'string'),\n",
       " ('Covered_Recipient_License_State_code1', 'string'),\n",
       " ('Submitting_Applicable_Manufacturer_or_Applicable_GPO_Name', 'string'),\n",
       " ('Applicable_Manufacturer_or_Applicable_GPO_Making_Payment_ID', 'string'),\n",
       " ('Applicable_Manufacturer_or_Applicable_GPO_Making_Payment_Name', 'string'),\n",
       " ('Applicable_Manufacturer_or_Applicable_GPO_Making_Payment_State', 'string'),\n",
       " ('Applicable_Manufacturer_or_Applicable_GPO_Making_Payment_Country',\n",
       "  'string'),\n",
       " ('Total_Amount_of_Payment_USDollars', 'string'),\n",
       " ('Date_of_Payment', 'string'),\n",
       " ('Number_of_Payments_Included_in_Total_Amount', 'string'),\n",
       " ('Form_of_Payment_or_Transfer_of_Value', 'string'),\n",
       " ('Nature_of_Payment_or_Transfer_of_Value', 'string'),\n",
       " ('Physician_Ownership_Indicator', 'string'),\n",
       " ('Third_Party_Payment_Recipient_Indicator', 'string'),\n",
       " ('Delay_in_Publication_Indicator', 'string'),\n",
       " ('Record_ID', 'string'),\n",
       " ('Dispute_Status_for_Publication', 'string'),\n",
       " ('Related_Product_Indicator', 'string'),\n",
       " ('Covered_or_Noncovered_Indicator_1', 'string'),\n",
       " ('Indicate_Drug_or_Biological_or_Device_or_Medical_Supply_1', 'string'),\n",
       " ('Product_Category_or_Therapeutic_Area_1', 'string'),\n",
       " ('Name_of_Drug_or_Biological_or_Device_or_Medical_Supply_1', 'string'),\n",
       " ('Associated_Drug_or_Biological_NDC_1', 'string'),\n",
       " ('Program_Year', 'string'),\n",
       " ('Payment_Publication_Date', 'string')]"
      ]
     },
     "execution_count": 40,
     "metadata": {},
     "output_type": "execute_result"
    }
   ],
   "source": [
    "gp_df1.dtypes"
   ]
  },
  {
   "cell_type": "code",
   "execution_count": 102,
   "id": "dc200634-e917-4398-aa86-b8d24135c7fa",
   "metadata": {
    "scrolled": true
   },
   "outputs": [
    {
     "name": "stdout",
     "output_type": "stream",
     "text": [
      "Value counts for column: Change_Type\n",
      "+-----------+--------+----------+\n",
      "|Change_Type|   count|percentage|\n",
      "+-----------+--------+----------+\n",
      "|  UNCHANGED|12712116|     95.68|\n",
      "|    CHANGED|  435391|      3.28|\n",
      "|        NEW|  135805|      1.02|\n",
      "|        ADD|    3158|      0.02|\n",
      "+-----------+--------+----------+\n",
      "\n",
      "Value counts for column: Covered_Recipient_Type\n",
      "+----------------------+-------+----------+\n",
      "|Covered_Recipient_Type|  count|percentage|\n",
      "+----------------------+-------+----------+\n",
      "|  Covered Recipient...|9011348|     67.82|\n",
      "|  Covered Recipient...|4236279|     31.88|\n",
      "|  Covered Recipient...|  38843|      0.29|\n",
      "+----------------------+-------+----------+\n",
      "\n",
      "Value counts for column: Covered_Recipient_First_Name\n",
      "+----------------------------+------+----------+\n",
      "|Covered_Recipient_First_Name| count|percentage|\n",
      "+----------------------------+------+----------+\n",
      "|                     MICHAEL|227642|      1.71|\n",
      "|                       DAVID|200915|      1.51|\n",
      "|                        JOHN|180716|      1.36|\n",
      "|                      ROBERT|150574|      1.13|\n",
      "|                       JAMES|129615|      0.98|\n",
      "|                    JENNIFER|122871|      0.92|\n",
      "|                     WILLIAM|102850|      0.77|\n",
      "|                        MARK|100724|      0.76|\n",
      "|                 CHRISTOPHER| 95135|      0.72|\n",
      "|                      DANIEL| 94061|      0.71|\n",
      "|                      JOSEPH| 84978|      0.64|\n",
      "|                     MATTHEW| 84617|      0.64|\n",
      "|                     RICHARD| 81708|      0.61|\n",
      "|                      THOMAS| 78589|      0.59|\n",
      "|                     JEFFREY| 78026|      0.59|\n",
      "|                      STEVEN| 74438|      0.56|\n",
      "|                      ANDREW| 70736|      0.53|\n",
      "|                       BRIAN| 70172|      0.53|\n",
      "|                     JESSICA| 67831|      0.51|\n",
      "|                        PAUL| 64589|      0.49|\n",
      "+----------------------------+------+----------+\n",
      "only showing top 20 rows\n",
      "\n",
      "Value counts for column: Covered_Recipient_Last_Name\n",
      "+---------------------------+-----+----------+\n",
      "|Covered_Recipient_Last_Name|count|percentage|\n",
      "+---------------------------+-----+----------+\n",
      "|                      PATEL|84241|      0.63|\n",
      "|                      SMITH|64090|      0.48|\n",
      "|                        LEE|48509|      0.37|\n",
      "|                    JOHNSON|44378|      0.33|\n",
      "|                     NGUYEN|39701|       0.3|\n",
      "|                       null|38843|      0.29|\n",
      "|                     MILLER|38164|      0.29|\n",
      "|                      BROWN|36439|      0.27|\n",
      "|                   WILLIAMS|34879|      0.26|\n",
      "|                      JONES|34638|      0.26|\n",
      "|                      DAVIS|32840|      0.25|\n",
      "|                       SHAH|31288|      0.24|\n",
      "|                        KIM|31162|      0.23|\n",
      "|                   ANDERSON|23265|      0.18|\n",
      "|                     THOMAS|22724|      0.17|\n",
      "|                      SINGH|22668|      0.17|\n",
      "|                     WILSON|22294|      0.17|\n",
      "|                       KHAN|22146|      0.17|\n",
      "|                      MOORE|20894|      0.16|\n",
      "|                     MARTIN|19310|      0.15|\n",
      "+---------------------------+-----+----------+\n",
      "only showing top 20 rows\n",
      "\n",
      "Value counts for column: Recipient_Primary_Business_Street_Address_Line1\n",
      "+-----------------------------------------------+-----+----------+\n",
      "|Recipient_Primary_Business_Street_Address_Line1|count|percentage|\n",
      "+-----------------------------------------------+-----+----------+\n",
      "|                                9500 EUCLID AVE| 9932|      0.07|\n",
      "|                                2500 N STATE ST| 9381|      0.07|\n",
      "|                                  200 1ST ST SW| 7610|      0.06|\n",
      "|                               3980 SHERIDAN DR| 7577|      0.06|\n",
      "|                               11100 EUCLID AVE| 7100|      0.05|\n",
      "|                                 200 W ARBOR DR| 6073|      0.05|\n",
      "|                             1515 HOLCOMBE BLVD| 5908|      0.04|\n",
      "|                                   1120 15TH ST| 5711|      0.04|\n",
      "|                                 300 PASTEUR DR| 5662|      0.04|\n",
      "|                             1514 JEFFERSON HWY| 5545|      0.04|\n",
      "|                              1729 BURRSTONE RD| 5293|      0.04|\n",
      "|                                 171 ASHLEY AVE| 4931|      0.04|\n",
      "|                            5841 S MARYLAND AVE| 4838|      0.04|\n",
      "|                           5323 HARRY HINES ...| 4664|      0.04|\n",
      "|                                9500 Euclid Ave| 4572|      0.03|\n",
      "|                               12605 E 16TH AVE| 4365|      0.03|\n",
      "|                                    201 PARK ST| 4266|      0.03|\n",
      "|                                 1501 KINGS HWY| 4258|      0.03|\n",
      "|                               4921 PARKVIEW PL| 4078|      0.03|\n",
      "|                           3800 RESERVOIR RD NW| 4029|      0.03|\n",
      "+-----------------------------------------------+-----+----------+\n",
      "only showing top 20 rows\n",
      "\n",
      "Value counts for column: Recipient_City\n",
      "+--------------+------+----------+\n",
      "|Recipient_City| count|percentage|\n",
      "+--------------+------+----------+\n",
      "|       HOUSTON|164966|      1.24|\n",
      "|      NEW YORK|153601|      1.16|\n",
      "|   SAN ANTONIO| 97129|      0.73|\n",
      "|        DALLAS| 90834|      0.68|\n",
      "|       CHICAGO| 84380|      0.64|\n",
      "|   LOS ANGELES| 78938|      0.59|\n",
      "|       PHOENIX| 77325|      0.58|\n",
      "|         MIAMI| 75105|      0.57|\n",
      "|        AUSTIN| 71235|      0.54|\n",
      "|  PHILADELPHIA| 71178|      0.54|\n",
      "|       ATLANTA| 70272|      0.53|\n",
      "|   SAINT LOUIS| 67091|       0.5|\n",
      "|     LAS VEGAS| 65594|      0.49|\n",
      "|      BROOKLYN| 64917|      0.49|\n",
      "|  JACKSONVILLE| 64028|      0.48|\n",
      "|      COLUMBUS| 61096|      0.46|\n",
      "|    LOUISVILLE| 61043|      0.46|\n",
      "|         TAMPA| 58707|      0.44|\n",
      "|    BIRMINGHAM| 55352|      0.42|\n",
      "|     CHARLOTTE| 55071|      0.41|\n",
      "+--------------+------+----------+\n",
      "only showing top 20 rows\n",
      "\n",
      "Value counts for column: Recipient_State\n",
      "+---------------+-------+----------+\n",
      "|Recipient_State|  count|percentage|\n",
      "+---------------+-------+----------+\n",
      "|             TX|1262647|       9.5|\n",
      "|             CA|1181732|      8.89|\n",
      "|             FL|1149765|      8.65|\n",
      "|             NY| 894853|      6.74|\n",
      "|             PA| 577084|      4.34|\n",
      "|             OH| 529345|      3.98|\n",
      "|             GA| 510681|      3.84|\n",
      "|             NC| 470138|      3.54|\n",
      "|             TN| 439478|      3.31|\n",
      "|             NJ| 431851|      3.25|\n",
      "|             IL| 431165|      3.25|\n",
      "|             MI| 404995|      3.05|\n",
      "|             VA| 325610|      2.45|\n",
      "|             AZ| 320721|      2.41|\n",
      "|             AL| 309020|      2.33|\n",
      "|             IN| 306267|      2.31|\n",
      "|             MO| 286887|      2.16|\n",
      "|             LA| 285035|      2.15|\n",
      "|             KY| 272986|      2.05|\n",
      "|             SC| 269130|      2.03|\n",
      "+---------------+-------+----------+\n",
      "only showing top 20 rows\n",
      "\n",
      "Value counts for column: Recipient_Zip_Code\n",
      "+------------------+-----+----------+\n",
      "|Recipient_Zip_Code|count|percentage|\n",
      "+------------------+-----+----------+\n",
      "|             77030|33269|      0.25|\n",
      "|             78229|17319|      0.13|\n",
      "|             39216|13597|       0.1|\n",
      "|             92868|12595|      0.09|\n",
      "|             10016|12435|      0.09|\n",
      "|             37203|11946|      0.09|\n",
      "|             14221|11884|      0.09|\n",
      "|             35801|11660|      0.09|\n",
      "|             76104|10836|      0.08|\n",
      "|             10029|10731|      0.08|\n",
      "|             90048|10708|      0.08|\n",
      "|             75246|10622|      0.08|\n",
      "|             75093|10238|      0.08|\n",
      "|             72205| 9988|      0.08|\n",
      "|             27103| 9937|      0.07|\n",
      "|             92037| 9576|      0.07|\n",
      "|             38138| 9557|      0.07|\n",
      "|             93720| 9515|      0.07|\n",
      "|             32806| 9356|      0.07|\n",
      "|             60611| 9237|      0.07|\n",
      "+------------------+-----+----------+\n",
      "only showing top 20 rows\n",
      "\n",
      "Value counts for column: Recipient_Country\n",
      "+--------------------+--------+----------+\n",
      "|   Recipient_Country|   count|percentage|\n",
      "+--------------------+--------+----------+\n",
      "|       United States|13285926|     100.0|\n",
      "|United States Min...|     263|       0.0|\n",
      "|             Germany|      52|       0.0|\n",
      "|              Canada|      51|       0.0|\n",
      "|               Japan|      47|       0.0|\n",
      "|  Great Britain (Uk)|      41|       0.0|\n",
      "| Korea (Republic of)|      17|       0.0|\n",
      "|                null|      13|       0.0|\n",
      "|              Mexico|       9|       0.0|\n",
      "|            Thailand|       7|       0.0|\n",
      "|            Pakistan|       6|       0.0|\n",
      "|         Afghanistan|       5|       0.0|\n",
      "|              Turkey|       4|       0.0|\n",
      "|              France|       4|       0.0|\n",
      "|United Arab Emirates|       4|       0.0|\n",
      "|              Israel|       3|       0.0|\n",
      "|               China|       3|       0.0|\n",
      "|        Saudi Arabia|       2|       0.0|\n",
      "|               Spain|       2|       0.0|\n",
      "|               Italy|       2|       0.0|\n",
      "+--------------------+--------+----------+\n",
      "only showing top 20 rows\n",
      "\n",
      "Value counts for column: Covered_Recipient_Primary_Type_1\n",
      "+--------------------------------+-------+----------+\n",
      "|Covered_Recipient_Primary_Type_1|  count|percentage|\n",
      "+--------------------------------+-------+----------+\n",
      "|                  Medical Doctor|7419039|     55.84|\n",
      "|              Nurse Practitioner|2754051|     20.73|\n",
      "|             Physician Assistant|1397793|     10.52|\n",
      "|            Doctor of Osteopathy| 877618|      6.61|\n",
      "|             Doctor of Dentistry| 303167|      2.28|\n",
      "|             Doctor of Optometry| 262631|      1.98|\n",
      "|            Doctor of Podiatr...| 144948|      1.09|\n",
      "|            Certified Registe...|  48354|      0.36|\n",
      "|                            null|  38858|      0.29|\n",
      "|            Clinical Nurse Sp...|  22341|      0.17|\n",
      "|            Certified Nurse-M...|  13464|       0.1|\n",
      "|                    Chiropractor|   3945|      0.03|\n",
      "|            Anesthesiologist ...|    261|       0.0|\n",
      "+--------------------------------+-------+----------+\n",
      "\n",
      "Value counts for column: Covered_Recipient_Specialty_1\n",
      "+-----------------------------+-------+----------+\n",
      "|Covered_Recipient_Specialty_1|  count|percentage|\n",
      "+-----------------------------+-------+----------+\n",
      "|         Physician Assista...|1206273|      9.08|\n",
      "|         Allopathic & Oste...|1085097|      8.17|\n",
      "|         Allopathic & Oste...|1072937|      8.08|\n",
      "|         Physician Assista...| 976607|      7.35|\n",
      "|         Physician Assista...| 735717|      5.54|\n",
      "|         Allopathic & Oste...| 452763|      3.41|\n",
      "|         Allopathic & Oste...| 433589|      3.26|\n",
      "|         Allopathic & Oste...| 389904|      2.93|\n",
      "|         Allopathic & Oste...| 375741|      2.83|\n",
      "|         Physician Assista...| 309911|      2.33|\n",
      "|         Physician Assista...| 300331|      2.26|\n",
      "|         Allopathic & Oste...| 283127|      2.13|\n",
      "|         Physician Assista...| 264689|      1.99|\n",
      "|         Allopathic & Oste...| 260998|      1.96|\n",
      "|         Eye and Vision Se...| 251978|       1.9|\n",
      "|         Allopathic & Oste...| 243751|      1.83|\n",
      "|         Allopathic & Oste...| 223173|      1.68|\n",
      "|         Allopathic & Oste...| 220468|      1.66|\n",
      "|         Allopathic & Oste...| 212216|       1.6|\n",
      "|         Allopathic & Oste...| 205853|      1.55|\n",
      "+-----------------------------+-------+----------+\n",
      "only showing top 20 rows\n",
      "\n",
      "Value counts for column: Covered_Recipient_License_State_code1\n",
      "+-------------------------------------+-------+----------+\n",
      "|Covered_Recipient_License_State_code1|  count|percentage|\n",
      "+-------------------------------------+-------+----------+\n",
      "|                                   CA|1300830|      9.79|\n",
      "|                                   FL|1202996|      9.05|\n",
      "|                                   TX|1101113|      8.29|\n",
      "|                                   NY| 828303|      6.23|\n",
      "|                                   GA| 522532|      3.93|\n",
      "|                                   PA| 511760|      3.85|\n",
      "|                                   OH| 496074|      3.73|\n",
      "|                                   IL| 488720|      3.68|\n",
      "|                                   NC| 475150|      3.58|\n",
      "|                                   NJ| 468085|      3.52|\n",
      "|                                   MI| 416836|      3.14|\n",
      "|                                   AZ| 378003|      2.85|\n",
      "|                                   TN| 363430|      2.74|\n",
      "|                                   AL| 356518|      2.68|\n",
      "|                                   IN| 334180|      2.52|\n",
      "|                                   LA| 294903|      2.22|\n",
      "|                                   VA| 276998|      2.08|\n",
      "|                                   KY| 270229|      2.03|\n",
      "|                                   MD| 248526|      1.87|\n",
      "|                                   MO| 238300|      1.79|\n",
      "+-------------------------------------+-------+----------+\n",
      "only showing top 20 rows\n",
      "\n",
      "Value counts for column: Submitting_Applicable_Manufacturer_or_Applicable_GPO_Name\n",
      "+---------------------------------------------------------+-------+----------+\n",
      "|Submitting_Applicable_Manufacturer_or_Applicable_GPO_Name|  count|percentage|\n",
      "+---------------------------------------------------------+-------+----------+\n",
      "|                                              ABBVIE INC.|1546028|     11.64|\n",
      "|                                     Janssen Pharmaceu...| 569801|      4.29|\n",
      "|                                         Novo Nordisk Inc| 522292|      3.93|\n",
      "|                                              Pfizer Inc.| 516852|      3.89|\n",
      "|                                     AstraZeneca Pharm...| 472502|      3.56|\n",
      "|                                     Eli Lilly and Com...| 403617|      3.04|\n",
      "|                                               Amgen Inc.| 403270|      3.04|\n",
      "|                                     Novartis Pharmace...| 392702|      2.96|\n",
      "|                                     GlaxoSmithKline, ...| 338539|      2.55|\n",
      "|                                      Abbott Laboratories| 311856|      2.35|\n",
      "|                                          Medtronic, Inc.| 307564|      2.31|\n",
      "|                                     Bristol Myers Squ...| 242119|      1.82|\n",
      "|                                     Boehringer Ingelh...| 238656|       1.8|\n",
      "|                                     Merck Sharp & Doh...| 226930|      1.71|\n",
      "|                                     Sanofi and Genzym...| 212263|       1.6|\n",
      "|                                     Bayer HealthCare ...| 205336|      1.55|\n",
      "|                                     Salix Pharmaceuti...| 202196|      1.52|\n",
      "|                                     Boston Scientific...| 194208|      1.46|\n",
      "|                                     Takeda Pharmaceut...| 158151|      1.19|\n",
      "|                                      Stryker Corporation| 140785|      1.06|\n",
      "+---------------------------------------------------------+-------+----------+\n",
      "only showing top 20 rows\n",
      "\n",
      "Value counts for column: Applicable_Manufacturer_or_Applicable_GPO_Making_Payment_ID\n",
      "+-----------------------------------------------------------+-------+----------+\n",
      "|Applicable_Manufacturer_or_Applicable_GPO_Making_Payment_ID|  count|percentage|\n",
      "+-----------------------------------------------------------+-------+----------+\n",
      "|                                               100000000204|1546723|     11.64|\n",
      "|                                               100000000144| 522290|      3.93|\n",
      "|                                               100000000146| 434200|      3.27|\n",
      "|                                               100000000203| 403270|      3.04|\n",
      "|                                               100000000066| 399431|      3.01|\n",
      "|                                               100000000228| 392782|      2.96|\n",
      "|                                               100000005449| 338539|      2.55|\n",
      "|                                               100000010680| 311856|      2.35|\n",
      "|                                               100000000106| 307564|      2.31|\n",
      "|                                               100000000232| 292301|       2.2|\n",
      "|                                               100000000286| 286135|      2.15|\n",
      "|                                               100000000234| 237611|      1.79|\n",
      "|                                               100000000329| 229393|      1.73|\n",
      "|                                               100000000053| 226930|      1.71|\n",
      "|                                               100001106888| 220446|      1.66|\n",
      "|                                               100000005467| 205336|      1.55|\n",
      "|                                               100000005674| 204434|      1.54|\n",
      "|                                               100000226817| 202196|      1.52|\n",
      "|                                               100000005499| 158494|      1.19|\n",
      "|                                               100000000337| 158151|      1.19|\n",
      "+-----------------------------------------------------------+-------+----------+\n",
      "only showing top 20 rows\n",
      "\n",
      "Value counts for column: Applicable_Manufacturer_or_Applicable_GPO_Making_Payment_Name\n",
      "+-------------------------------------------------------------+-------+----------+\n",
      "|Applicable_Manufacturer_or_Applicable_GPO_Making_Payment_Name|  count|percentage|\n",
      "+-------------------------------------------------------------+-------+----------+\n",
      "|                                                  ABBVIE INC.|1542361|     11.61|\n",
      "|                                             Novo Nordisk Inc| 522290|      3.93|\n",
      "|                                         AstraZeneca Pharm...| 434200|      3.27|\n",
      "|                                                   Amgen Inc.| 403270|      3.04|\n",
      "|                                               Lilly USA, LLC| 399431|      3.01|\n",
      "|                                         Novartis Pharmace...| 392190|      2.95|\n",
      "|                                         GlaxoSmithKline, ...| 338539|      2.55|\n",
      "|                                          Abbott Laboratories| 311856|      2.35|\n",
      "|                                              Medtronic, Inc.| 307564|      2.31|\n",
      "|                                         Janssen Pharmaceu...| 292301|       2.2|\n",
      "|                                                  PFIZER INC.| 285298|      2.15|\n",
      "|                                         Boehringer Ingelh...| 237611|      1.79|\n",
      "|                                         Janssen Biotech, ...| 229393|      1.73|\n",
      "|                                         Merck Sharp & Doh...| 226930|      1.71|\n",
      "|                                         Biohaven Pharmace...| 220446|      1.66|\n",
      "|                                         Bayer HealthCare ...| 205336|      1.55|\n",
      "|                                         Salix Pharmaceuti...| 202196|      1.52|\n",
      "|                                         Boston Scientific...| 196967|      1.48|\n",
      "|                                         E.R. Squibb & Son...| 158494|      1.19|\n",
      "|                                         Takeda Pharmaceut...| 158151|      1.19|\n",
      "+-------------------------------------------------------------+-------+----------+\n",
      "only showing top 20 rows\n",
      "\n",
      "Value counts for column: Applicable_Manufacturer_or_Applicable_GPO_Making_Payment_State\n",
      "+--------------------------------------------------------------+-------+----------+\n",
      "|Applicable_Manufacturer_or_Applicable_GPO_Making_Payment_State|  count|percentage|\n",
      "+--------------------------------------------------------------+-------+----------+\n",
      "|                                                            NJ|3168383|     23.85|\n",
      "|                                                            IL|2055110|     15.47|\n",
      "|                                                            CA|1574374|     11.85|\n",
      "|                                                            MA|1262484|       9.5|\n",
      "|                                                            PA| 911946|      6.86|\n",
      "|                                                            NY| 863912|       6.5|\n",
      "|                                                            DE| 524715|      3.95|\n",
      "|                                                            IN| 473055|      3.56|\n",
      "|                                                            MN| 420518|      3.17|\n",
      "|                                                            CT| 248030|      1.87|\n",
      "|                                                            TX| 206933|      1.56|\n",
      "|                                                            MD| 195704|      1.47|\n",
      "|                                                            MI| 173443|      1.31|\n",
      "|                                                            FL| 172818|       1.3|\n",
      "|                                                            NC| 153401|      1.15|\n",
      "|                                                            GA| 116876|      0.88|\n",
      "|                                                          null| 115934|      0.87|\n",
      "|                                                            TN|  98789|      0.74|\n",
      "|                                                            AZ|  74161|      0.56|\n",
      "|                                                            CO|  68199|      0.51|\n",
      "+--------------------------------------------------------------+-------+----------+\n",
      "only showing top 20 rows\n",
      "\n",
      "Value counts for column: Applicable_Manufacturer_or_Applicable_GPO_Making_Payment_Country\n",
      "+----------------------------------------------------------------+--------+----------+\n",
      "|Applicable_Manufacturer_or_Applicable_GPO_Making_Payment_Country|   count|percentage|\n",
      "+----------------------------------------------------------------+--------+----------+\n",
      "|                                                   United States|13170521|     99.13|\n",
      "|                                                         Ireland|   79782|       0.6|\n",
      "|                                                          Canada|    8531|      0.06|\n",
      "|                                              Great Britain (Uk)|    7960|      0.06|\n",
      "|                                                     Switzerland|    6230|      0.05|\n",
      "|                                                         Bermuda|    4934|      0.04|\n",
      "|                                                         Iceland|    3340|      0.03|\n",
      "|                                                         Germany|    1545|      0.01|\n",
      "|                                                         Denmark|    1128|      0.01|\n",
      "|                                                           Japan|     677|      0.01|\n",
      "|                                                          Israel|     535|       0.0|\n",
      "|                                                         Belgium|     274|       0.0|\n",
      "|                                                          France|     267|       0.0|\n",
      "|                                                          Sweden|     241|       0.0|\n",
      "|                                                           Italy|     149|       0.0|\n",
      "|                                                         Austria|      73|       0.0|\n",
      "|                                                           Spain|      60|       0.0|\n",
      "|                                                  Cayman Islands|      39|       0.0|\n",
      "|                                                       Australia|      30|       0.0|\n",
      "|                                             Korea (Republic of)|      25|       0.0|\n",
      "+----------------------------------------------------------------+--------+----------+\n",
      "only showing top 20 rows\n",
      "\n",
      "Value counts for column: Total_Amount_of_Payment_USDollars\n",
      "+---------------------------------+-----+----------+\n",
      "|Total_Amount_of_Payment_USDollars|count|percentage|\n",
      "+---------------------------------+-----+----------+\n",
      "|                           125.00|41821|      0.31|\n",
      "|                            15.00|30169|      0.23|\n",
      "|                            10.00|25265|      0.19|\n",
      "|                            25.00|24155|      0.18|\n",
      "|                            20.00|22766|      0.17|\n",
      "|                          1200.00|17663|      0.13|\n",
      "|                            19.00|14995|      0.11|\n",
      "|                           124.99|14187|      0.11|\n",
      "|                            50.00|14116|      0.11|\n",
      "|                          1000.00|13198|       0.1|\n",
      "|                            30.00|12775|       0.1|\n",
      "|                            11.71|12197|      0.09|\n",
      "|                            24.00|12160|      0.09|\n",
      "|                            12.50|12037|      0.09|\n",
      "|                            13.89|12020|      0.09|\n",
      "|                            18.00|12009|      0.09|\n",
      "|                            14.00|11762|      0.09|\n",
      "|                            16.00|11403|      0.09|\n",
      "|                          1500.00|11048|      0.08|\n",
      "|                            12.00|10992|      0.08|\n",
      "+---------------------------------+-----+----------+\n",
      "only showing top 20 rows\n",
      "\n",
      "Value counts for column: Date_of_Payment\n",
      "+---------------+-----+----------+\n",
      "|Date_of_Payment|count|percentage|\n",
      "+---------------+-----+----------+\n",
      "|     11/16/2022|78346|      0.59|\n",
      "|     11/09/2022|75268|      0.57|\n",
      "|     10/26/2022|73638|      0.55|\n",
      "|     11/17/2022|73086|      0.55|\n",
      "|     10/19/2022|71655|      0.54|\n",
      "|     11/15/2022|70708|      0.53|\n",
      "|     05/18/2022|70675|      0.53|\n",
      "|     05/11/2022|70582|      0.53|\n",
      "|     12/07/2022|70356|      0.53|\n",
      "|     09/15/2022|70217|      0.53|\n",
      "|     09/21/2022|69253|      0.52|\n",
      "|     10/27/2022|68961|      0.52|\n",
      "|     09/14/2022|68545|      0.52|\n",
      "|     11/02/2022|68268|      0.51|\n",
      "|     11/10/2022|68248|      0.51|\n",
      "|     10/20/2022|68014|      0.51|\n",
      "|     08/24/2022|67722|      0.51|\n",
      "|     11/03/2022|67662|      0.51|\n",
      "|     05/12/2022|67443|      0.51|\n",
      "|     07/14/2022|67434|      0.51|\n",
      "+---------------+-----+----------+\n",
      "only showing top 20 rows\n",
      "\n",
      "Value counts for column: Number_of_Payments_Included_in_Total_Amount\n",
      "+-------------------------------------------+--------+----------+\n",
      "|Number_of_Payments_Included_in_Total_Amount|   count|percentage|\n",
      "+-------------------------------------------+--------+----------+\n",
      "|                                          1|13245918|     99.69|\n",
      "|                                          2|   12017|      0.09|\n",
      "|                                          3|    5690|      0.04|\n",
      "|                                          4|    4102|      0.03|\n",
      "|                                          5|    2762|      0.02|\n",
      "|                                          6|    2325|      0.02|\n",
      "|                                          7|    1654|      0.01|\n",
      "|                                          8|    1436|      0.01|\n",
      "|                                         10|    1184|      0.01|\n",
      "|                                          9|    1150|      0.01|\n",
      "|                                         12|     891|      0.01|\n",
      "|                                         11|     851|      0.01|\n",
      "|                                         13|     613|       0.0|\n",
      "|                                         14|     559|       0.0|\n",
      "|                                         15|     541|       0.0|\n",
      "|                                         16|     420|       0.0|\n",
      "|                                         17|     335|       0.0|\n",
      "|                                         20|     328|       0.0|\n",
      "|                                         18|     311|       0.0|\n",
      "|                                         19|     256|       0.0|\n",
      "+-------------------------------------------+--------+----------+\n",
      "only showing top 20 rows\n",
      "\n",
      "Value counts for column: Form_of_Payment_or_Transfer_of_Value\n",
      "+------------------------------------+--------+----------+\n",
      "|Form_of_Payment_or_Transfer_of_Value|   count|percentage|\n",
      "+------------------------------------+--------+----------+\n",
      "|                In-kind items and...|11444902|     86.14|\n",
      "|                Cash or cash equi...| 1840553|     13.85|\n",
      "|                Dividend, profit ...|     543|       0.0|\n",
      "|                        Stock option|     220|       0.0|\n",
      "|                               Stock|     173|       0.0|\n",
      "|                Any other ownersh...|      64|       0.0|\n",
      "|                                null|      13|       0.0|\n",
      "|                          08/11/2022|       1|       0.0|\n",
      "|                          02/22/2022|       1|       0.0|\n",
      "+------------------------------------+--------+----------+\n",
      "\n",
      "Value counts for column: Nature_of_Payment_or_Transfer_of_Value\n",
      "+--------------------------------------+--------+----------+\n",
      "|Nature_of_Payment_or_Transfer_of_Value|   count|percentage|\n",
      "+--------------------------------------+--------+----------+\n",
      "|                     Food and Beverage|12126066|     91.27|\n",
      "|                    Travel and Lodging|  472317|      3.55|\n",
      "|                  Compensation for ...|  232462|      1.75|\n",
      "|                        Consulting Fee|  170380|      1.28|\n",
      "|                             Education|  159785|       1.2|\n",
      "|                                  Gift|   34519|      0.26|\n",
      "|                             Honoraria|   18770|      0.14|\n",
      "|                  Compensation for ...|   17828|      0.13|\n",
      "|                    Royalty or License|   15669|      0.12|\n",
      "|                  Long term medical...|   11404|      0.09|\n",
      "|                  Space rental or f...|    7199|      0.05|\n",
      "|                                 Grant|    6842|      0.05|\n",
      "|                      Debt forgiveness|    6140|      0.05|\n",
      "|                         Entertainment|    4836|      0.04|\n",
      "|                          Acquisitions|     862|      0.01|\n",
      "|                  Current or prospe...|     739|      0.01|\n",
      "|                  Charitable Contri...|     637|       0.0|\n",
      "|                                  null|      13|       0.0|\n",
      "|                                     1|       2|       0.0|\n",
      "+--------------------------------------+--------+----------+\n",
      "\n",
      "Value counts for column: Physician_Ownership_Indicator\n",
      "+-----------------------------+--------+----------+\n",
      "|Physician_Ownership_Indicator|   count|percentage|\n",
      "+-----------------------------+--------+----------+\n",
      "|                           No|11513554|     86.66|\n",
      "|                         null| 1714945|     12.91|\n",
      "|                          Yes|   57971|      0.44|\n",
      "+-----------------------------+--------+----------+\n",
      "\n",
      "Value counts for column: Third_Party_Payment_Recipient_Indicator\n",
      "+---------------------------------------+--------+----------+\n",
      "|Third_Party_Payment_Recipient_Indicator|   count|percentage|\n",
      "+---------------------------------------+--------+----------+\n",
      "|                   No Third Party Pa...|13184011|     99.23|\n",
      "|                                 Entity|   86717|      0.65|\n",
      "|                             Individual|   15727|      0.12|\n",
      "|                                   null|      15|       0.0|\n",
      "+---------------------------------------+--------+----------+\n",
      "\n",
      "Value counts for column: Delay_in_Publication_Indicator\n",
      "+------------------------------+--------+----------+\n",
      "|Delay_in_Publication_Indicator|   count|percentage|\n",
      "+------------------------------+--------+----------+\n",
      "|                            No|13286468|     100.0|\n",
      "|                          null|       2|       0.0|\n",
      "+------------------------------+--------+----------+\n",
      "\n",
      "Value counts for column: Record_ID\n",
      "+----------+-----+----------+\n",
      "| Record_ID|count|percentage|\n",
      "+----------+-----+----------+\n",
      "|       Yes|   13|       0.0|\n",
      "|      null|    2|       0.0|\n",
      "| 863937365|    1|       0.0|\n",
      "|1011147007|    1|       0.0|\n",
      "| 872066895|    1|       0.0|\n",
      "|1003219021|    1|       0.0|\n",
      "| 872373229|    1|       0.0|\n",
      "|1011147021|    1|       0.0|\n",
      "| 872067007|    1|       0.0|\n",
      "|1011147009|    1|       0.0|\n",
      "| 872066589|    1|       0.0|\n",
      "|1011147043|    1|       0.0|\n",
      "| 872066641|    1|       0.0|\n",
      "|1011146995|    1|       0.0|\n",
      "| 862665163|    1|       0.0|\n",
      "|1011147061|    1|       0.0|\n",
      "| 862665205|    1|       0.0|\n",
      "|1011146993|    1|       0.0|\n",
      "| 863937487|    1|       0.0|\n",
      "|1011147075|    1|       0.0|\n",
      "+----------+-----+----------+\n",
      "only showing top 20 rows\n",
      "\n",
      "Value counts for column: Dispute_Status_for_Publication\n",
      "+------------------------------+--------+----------+\n",
      "|Dispute_Status_for_Publication|   count|percentage|\n",
      "+------------------------------+--------+----------+\n",
      "|                            No|13285980|     100.0|\n",
      "|                           Yes|     477|       0.0|\n",
      "|                       Covered|      13|       0.0|\n",
      "+------------------------------+--------+----------+\n",
      "\n",
      "Value counts for column: Related_Product_Indicator\n",
      "+-------------------------+--------+----------+\n",
      "|Related_Product_Indicator|   count|percentage|\n",
      "+-------------------------+--------+----------+\n",
      "|                      Yes|12553261|     94.48|\n",
      "|                       No|  733194|      5.52|\n",
      "|                     Drug|      13|       0.0|\n",
      "|                965329123|       1|       0.0|\n",
      "|                965329113|       1|       0.0|\n",
      "+-------------------------+--------+----------+\n",
      "\n",
      "Value counts for column: Covered_or_Noncovered_Indicator_1\n",
      "+---------------------------------+--------+----------+\n",
      "|Covered_or_Noncovered_Indicator_1|   count|percentage|\n",
      "+---------------------------------+--------+----------+\n",
      "|                          Covered|12209442|     91.89|\n",
      "|                             null|  733194|      5.52|\n",
      "|                      Non-Covered|  343819|      2.59|\n",
      "|                 Opioid Analgesic|      13|       0.0|\n",
      "|                               No|       2|       0.0|\n",
      "+---------------------------------+--------+----------+\n",
      "\n",
      "Value counts for column: Indicate_Drug_or_Biological_or_Device_or_Medical_Supply_1\n",
      "+---------------------------------------------------------+-------+----------+\n",
      "|Indicate_Drug_or_Biological_or_Device_or_Medical_Supply_1|  count|percentage|\n",
      "+---------------------------------------------------------+-------+----------+\n",
      "|                                                     Drug|7571000|     56.98|\n",
      "|                                                   Device|2526191|     19.01|\n",
      "|                                               Biological|2130289|     16.03|\n",
      "|                                                     null| 973429|      7.33|\n",
      "|                                           Medical Supply|  85546|      0.64|\n",
      "|                                                  Belbuca|      9|       0.0|\n",
      "|                                                  XTAMPZA|      4|       0.0|\n",
      "|                                                       No|      2|       0.0|\n",
      "+---------------------------------------------------------+-------+----------+\n",
      "\n",
      "Value counts for column: Product_Category_or_Therapeutic_Area_1\n",
      "+--------------------------------------+------+----------+\n",
      "|Product_Category_or_Therapeutic_Area_1| count|percentage|\n",
      "+--------------------------------------+------+----------+\n",
      "|                                  null|967245|      7.28|\n",
      "|                          NEUROSCIENCE|911210|      6.86|\n",
      "|                              Diabetes|664927|       5.0|\n",
      "|                            IMMUNOLOGY|637048|      4.79|\n",
      "|                            Immunology|438194|       3.3|\n",
      "|                        CARDIOVASCULAR|300675|      2.26|\n",
      "|                              Oncology|298566|      2.25|\n",
      "|                          Neuroscience|269088|      2.03|\n",
      "|                           RESPIRATORY|267199|      2.01|\n",
      "|                            PSYCHIATRY|227041|      1.71|\n",
      "|                          PRIMARY CARE|220133|      1.66|\n",
      "|                      Gastroenterology|205210|      1.54|\n",
      "|                  Cardiovascular & ...|203139|      1.53|\n",
      "|                  Cardiovascular an...|199879|       1.5|\n",
      "|                              ONCOLOGY|190972|      1.44|\n",
      "|                           Respiratory|180002|      1.35|\n",
      "|                         Ophthalmology|168659|      1.27|\n",
      "|                        Cardiovascular|163020|      1.23|\n",
      "|                          Cardio-renal|162595|      1.22|\n",
      "|                          Inflammation|160570|      1.21|\n",
      "+--------------------------------------+------+----------+\n",
      "only showing top 20 rows\n",
      "\n",
      "Value counts for column: Name_of_Drug_or_Biological_or_Device_or_Medical_Supply_1\n",
      "+--------------------------------------------------------+------+----------+\n",
      "|Name_of_Drug_or_Biological_or_Device_or_Medical_Supply_1| count|percentage|\n",
      "+--------------------------------------------------------+------+----------+\n",
      "|                                                    null|992145|      7.47|\n",
      "|                                                 VRAYLAR|321081|      2.42|\n",
      "|                                                Rybelsus|232187|      1.75|\n",
      "|                                              NURTEC ODT|220158|      1.66|\n",
      "|                                                 UBRELVY|208081|      1.57|\n",
      "|                                                 XARELTO|202810|      1.53|\n",
      "|                                                 QULIPTA|200905|      1.51|\n",
      "|                                                  RINVOQ|195809|      1.47|\n",
      "|                                         TRELEGY ELLIPTA|191670|      1.44|\n",
      "|                                                DUPIXENT|175327|      1.32|\n",
      "|                                               JARDIANCE|168883|      1.27|\n",
      "|                                                 Ozempic|165023|      1.24|\n",
      "|                                                Kerendia|162616|      1.22|\n",
      "|                                                 FARXIGA|161199|      1.21|\n",
      "|                                                 ELIQUIS|158000|      1.19|\n",
      "|                                                 SKYRIZI|153933|      1.16|\n",
      "|                                                ENTRESTO|143736|      1.08|\n",
      "|                                                 XIFAXAN|138460|      1.04|\n",
      "|                                                   BOTOX|109987|      0.83|\n",
      "|                                                MOUNJARO|100058|      0.75|\n",
      "+--------------------------------------------------------+------+----------+\n",
      "only showing top 20 rows\n",
      "\n",
      "Value counts for column: Associated_Drug_or_Biological_NDC_1\n",
      "+-----------------------------------+-------+----------+\n",
      "|Associated_Drug_or_Biological_NDC_1|  count|percentage|\n",
      "+-----------------------------------+-------+----------+\n",
      "|                               null|3620700|     27.25|\n",
      "|                       61874-115-31| 321081|      2.42|\n",
      "|                       0169-4303-13| 232187|      1.75|\n",
      "|                       72618-3000-2| 220158|      1.66|\n",
      "|                       0023-6501-10| 208081|      1.57|\n",
      "|                       50458-580-30| 202810|      1.53|\n",
      "|                       0074-7094-30| 200905|      1.51|\n",
      "|                       0074-2306-30| 195809|      1.47|\n",
      "|                       0173-0887-14| 191670|      1.44|\n",
      "|                       0024-5914-01| 175327|      1.32|\n",
      "|                       0169-4132-12| 165023|      1.24|\n",
      "|                       50419-540-01| 162616|      1.22|\n",
      "|                       0310-6205-30| 161199|      1.21|\n",
      "|                       0074-2042-02| 153933|      1.16|\n",
      "|                       0078-0659-20| 143736|      1.08|\n",
      "|                       0597-0152-30| 139152|      1.05|\n",
      "|                       65649-303-02| 138460|      1.04|\n",
      "|                       0023-1145-01| 109987|      0.83|\n",
      "|                       0002-1506-80| 100058|      0.75|\n",
      "|                       72060-142-30|  94781|      0.71|\n",
      "+-----------------------------------+-------+----------+\n",
      "only showing top 20 rows\n",
      "\n",
      "Value counts for column: Program_Year\n",
      "+------------+--------+----------+\n",
      "|Program_Year|   count|percentage|\n",
      "+------------+--------+----------+\n",
      "|        2022|13286442|     100.0|\n",
      "|        null|      27|       0.0|\n",
      "|  06/28/2024|       1|       0.0|\n",
      "+------------+--------+----------+\n",
      "\n",
      "Value counts for column: Payment_Publication_Date\n",
      "+------------------------+--------+----------+\n",
      "|Payment_Publication_Date|   count|percentage|\n",
      "+------------------------+--------+----------+\n",
      "|              06/28/2024|13286442|     100.0|\n",
      "|                    null|      16|       0.0|\n",
      "|                    2022|      12|       0.0|\n",
      "+------------------------+--------+----------+\n",
      "\n"
     ]
    }
   ],
   "source": [
    "# Checking for unique values\n",
    "for column,dtype in gp_df1.dtypes:\n",
    "    if dtype == 'string':\n",
    "        print(f\"Value counts for column: {column}\")\n",
    "        gp_df1.groupBy(column).agg(F.count('*').alias('count'),F.round((F.count('*') / total_count * 100),2).alias('percentage') ).orderBy('count', ascending=False).show()"
   ]
  },
  {
   "cell_type": "code",
   "execution_count": 41,
   "id": "0bdfc294-0e03-48ad-a2d7-b5fd132bba7f",
   "metadata": {
    "scrolled": true
   },
   "outputs": [
    {
     "data": {
      "text/plain": [
       "['Covered_Recipient_Type',\n",
       " 'Covered_Recipient_Profile_ID',\n",
       " 'Covered_Recipient_NPI',\n",
       " 'Covered_Recipient_First_Name',\n",
       " 'Covered_Recipient_Last_Name',\n",
       " 'Recipient_City',\n",
       " 'Recipient_State',\n",
       " 'Covered_Recipient_Primary_Type_1',\n",
       " 'Covered_Recipient_Specialty_1',\n",
       " 'Covered_Recipient_License_State_code1',\n",
       " 'Submitting_Applicable_Manufacturer_or_Applicable_GPO_Name',\n",
       " 'Applicable_Manufacturer_or_Applicable_GPO_Making_Payment_ID',\n",
       " 'Applicable_Manufacturer_or_Applicable_GPO_Making_Payment_Name',\n",
       " 'Applicable_Manufacturer_or_Applicable_GPO_Making_Payment_State',\n",
       " 'Total_Amount_of_Payment_USDollars',\n",
       " 'Date_of_Payment',\n",
       " 'Covered_or_Noncovered_Indicator_1',\n",
       " 'Indicate_Drug_or_Biological_or_Device_or_Medical_Supply_1',\n",
       " 'Product_Category_or_Therapeutic_Area_1',\n",
       " 'Name_of_Drug_or_Biological_or_Device_or_Medical_Supply_1']"
      ]
     },
     "execution_count": 41,
     "metadata": {},
     "output_type": "execute_result"
    }
   ],
   "source": [
    "# Retaining collumns that are unbiased and neccessary for analysis\n",
    "uneccassary_cols = ['Change_Type',\n",
    "                    'Recipient_Primary_Business_Street_Address_Line1',\n",
    "                    'Recipient_Zip_Code',\n",
    "                    'Recipient_Country',\n",
    "                    'Applicable_Manufacturer_or_Applicable_GPO_Making_Payment_Country',\n",
    "                    'Number_of_Payments_Included_in_Total_Amount',\n",
    "                    'Physician_Ownership_Indicator',\n",
    "                    'Third_Party_Payment_Recipient_Indicator',\n",
    "                    'Delay_in_Publication_Indicator',\n",
    "                    'Record_ID',\n",
    "                    'Dispute_Status_for_Publication',\n",
    "                    'Related_Product_Indicator',\n",
    "                    'Program_Year',\n",
    "                    'Associated_Drug_or_Biological_NDC_1',\n",
    "                    'Payment_Publication_Date',\n",
    "                    'Nature_of_Payment_or_Transfer_of_Value',\n",
    "                    'Form_of_Payment_or_Transfer_of_Value']\n",
    "for col_name in uneccassary_cols:\n",
    "    non_null_cols.remove(col_name)\n",
    "non_null_cols"
   ]
  },
  {
   "cell_type": "code",
   "execution_count": 42,
   "id": "c785d6b5-93bd-4107-a6b3-ec5e064b73bc",
   "metadata": {
    "scrolled": true
   },
   "outputs": [
    {
     "data": {
      "text/plain": [
       "[('Covered_Recipient_Type', 'string'),\n",
       " ('Covered_Recipient_Profile_ID', 'int'),\n",
       " ('Covered_Recipient_NPI', 'int'),\n",
       " ('Covered_Recipient_First_Name', 'string'),\n",
       " ('Covered_Recipient_Last_Name', 'string'),\n",
       " ('Recipient_City', 'string'),\n",
       " ('Recipient_State', 'string'),\n",
       " ('Covered_Recipient_Primary_Type_1', 'string'),\n",
       " ('Covered_Recipient_Specialty_1', 'string'),\n",
       " ('Covered_Recipient_License_State_code1', 'string'),\n",
       " ('Submitting_Applicable_Manufacturer_or_Applicable_GPO_Name', 'string'),\n",
       " ('Applicable_Manufacturer_or_Applicable_GPO_Making_Payment_ID', 'string'),\n",
       " ('Applicable_Manufacturer_or_Applicable_GPO_Making_Payment_Name', 'string'),\n",
       " ('Applicable_Manufacturer_or_Applicable_GPO_Making_Payment_State', 'string'),\n",
       " ('Total_Amount_of_Payment_USDollars', 'string'),\n",
       " ('Date_of_Payment', 'string'),\n",
       " ('Covered_or_Noncovered_Indicator_1', 'string'),\n",
       " ('Indicate_Drug_or_Biological_or_Device_or_Medical_Supply_1', 'string'),\n",
       " ('Product_Category_or_Therapeutic_Area_1', 'string'),\n",
       " ('Name_of_Drug_or_Biological_or_Device_or_Medical_Supply_1', 'string')]"
      ]
     },
     "execution_count": 42,
     "metadata": {},
     "output_type": "execute_result"
    }
   ],
   "source": [
    "gp_df1 = gp_df1.select(non_null_cols)\n",
    "gp_df1.dtypes"
   ]
  },
  {
   "cell_type": "code",
   "execution_count": 43,
   "id": "59ff69d6-6636-40ed-a518-0071fe50c7f3",
   "metadata": {},
   "outputs": [],
   "source": [
    "# Changing dtype of columns according to their values\n",
    "gp_df1 = gp_df1.withColumn('Total_Amount_of_Payment_USDollars', F.round(F.col('Total_Amount_of_Payment_USDollars').cast('double'),2))"
   ]
  },
  {
   "cell_type": "code",
   "execution_count": 44,
   "id": "b668ee37-3665-4de1-b48f-9e24f057660b",
   "metadata": {},
   "outputs": [],
   "source": [
    "gp_df1 = gp_df1.withColumn('Date_of_Payment', F.to_date(F.col('Date_of_Payment'),\"MM/dd/yyyy\"))"
   ]
  },
  {
   "cell_type": "code",
   "execution_count": 45,
   "id": "71b9a25e-d580-4905-acfb-e100083eb511",
   "metadata": {
    "scrolled": true
   },
   "outputs": [
    {
     "data": {
      "text/plain": [
       "[('Covered_Recipient_Type', 'string'),\n",
       " ('Covered_Recipient_Profile_ID', 'int'),\n",
       " ('Covered_Recipient_NPI', 'int'),\n",
       " ('Covered_Recipient_First_Name', 'string'),\n",
       " ('Covered_Recipient_Last_Name', 'string'),\n",
       " ('Recipient_City', 'string'),\n",
       " ('Recipient_State', 'string'),\n",
       " ('Covered_Recipient_Primary_Type_1', 'string'),\n",
       " ('Covered_Recipient_Specialty_1', 'string'),\n",
       " ('Covered_Recipient_License_State_code1', 'string'),\n",
       " ('Submitting_Applicable_Manufacturer_or_Applicable_GPO_Name', 'string'),\n",
       " ('Applicable_Manufacturer_or_Applicable_GPO_Making_Payment_ID', 'string'),\n",
       " ('Applicable_Manufacturer_or_Applicable_GPO_Making_Payment_Name', 'string'),\n",
       " ('Applicable_Manufacturer_or_Applicable_GPO_Making_Payment_State', 'string'),\n",
       " ('Total_Amount_of_Payment_USDollars', 'double'),\n",
       " ('Date_of_Payment', 'date'),\n",
       " ('Covered_or_Noncovered_Indicator_1', 'string'),\n",
       " ('Indicate_Drug_or_Biological_or_Device_or_Medical_Supply_1', 'string'),\n",
       " ('Product_Category_or_Therapeutic_Area_1', 'string'),\n",
       " ('Name_of_Drug_or_Biological_or_Device_or_Medical_Supply_1', 'string')]"
      ]
     },
     "execution_count": 45,
     "metadata": {},
     "output_type": "execute_result"
    }
   ],
   "source": [
    "gp_df1.dtypes"
   ]
  },
  {
   "cell_type": "code",
   "execution_count": 46,
   "id": "b419194b-979b-4063-9012-efc79d42382c",
   "metadata": {},
   "outputs": [],
   "source": [
    "# Handling categorical values by aggregating lower percentage of values together into a category called others\n",
    "gp_df1 = gp_df1.withColumn('Covered_Recipient_Primary_Type_1',\n",
    "                                when(\n",
    "                                    F.col('Covered_Recipient_Primary_Type_1'\n",
    "                                         ).isin(\n",
    "                                    ['Medical Doctor','Nurse Practitioner','Physician Assistant']),F.col(\n",
    "                                        'Covered_Recipient_Primary_Type_1'\n",
    "                                         )\n",
    "                                ).otherwise(\n",
    "                                    'Others'\n",
    "                                )\n",
    "                      )"
   ]
  },
  {
   "cell_type": "code",
   "execution_count": 47,
   "id": "1fd8e10b-7922-4716-a89e-8e00d0b27e2f",
   "metadata": {},
   "outputs": [
    {
     "name": "stdout",
     "output_type": "stream",
     "text": [
      "+--------------------------------+-------+----------+\n",
      "|Covered_Recipient_Primary_Type_1|  count|percentage|\n",
      "+--------------------------------+-------+----------+\n",
      "|                  Medical Doctor|7419039|     55.84|\n",
      "|              Nurse Practitioner|2754051|     20.73|\n",
      "|                          Others|1715587|     12.91|\n",
      "|             Physician Assistant|1397793|     10.52|\n",
      "+--------------------------------+-------+----------+\n",
      "\n"
     ]
    }
   ],
   "source": [
    "gp_df1.groupBy('Covered_Recipient_Primary_Type_1').agg(F.count('*').alias('count'),F.round((F.count('*') / total_count * 100),2).alias('percentage') ).orderBy('count', ascending=False).show()"
   ]
  },
  {
   "cell_type": "code",
   "execution_count": 48,
   "id": "46a976f3-f5d4-483a-9b41-4755b035f0d1",
   "metadata": {},
   "outputs": [],
   "source": [
    "gp_df1 = gp_df1.withColumn('Indicate_Drug_or_Biological_or_Device_or_Medical_Supply_1',\n",
    "                                when(\n",
    "                                    F.col('Indicate_Drug_or_Biological_or_Device_or_Medical_Supply_1'\n",
    "                                         ).isin(\n",
    "                                    ['Drug','Device','Biological']),F.col(\n",
    "                                        'Indicate_Drug_or_Biological_or_Device_or_Medical_Supply_1'\n",
    "                                         )\n",
    "                                ).otherwise(\n",
    "                                    'Others'\n",
    "                                )\n",
    "                      )"
   ]
  },
  {
   "cell_type": "code",
   "execution_count": 49,
   "id": "18fc7fc7-9a53-4cf3-8172-46fe0f43db03",
   "metadata": {},
   "outputs": [
    {
     "name": "stdout",
     "output_type": "stream",
     "text": [
      "+---------------------------------------------------------+-------+----------+\n",
      "|Indicate_Drug_or_Biological_or_Device_or_Medical_Supply_1|  count|percentage|\n",
      "+---------------------------------------------------------+-------+----------+\n",
      "|                                                     Drug|7571000|     56.98|\n",
      "|                                                   Device|2526191|     19.01|\n",
      "|                                               Biological|2130289|     16.03|\n",
      "|                                                   Others|1058990|      7.97|\n",
      "+---------------------------------------------------------+-------+----------+\n",
      "\n"
     ]
    }
   ],
   "source": [
    "gp_df1.groupBy('Indicate_Drug_or_Biological_or_Device_or_Medical_Supply_1').agg(F.count('*').alias('count'),F.round((F.count('*') / total_count * 100),2).alias('percentage') ).orderBy('count', ascending=False).show()"
   ]
  },
  {
   "cell_type": "code",
   "execution_count": 50,
   "id": "35bcc8ea-0564-4c82-a49e-db64901b830e",
   "metadata": {},
   "outputs": [],
   "source": [
    "val = gp_df1.approxQuantile('Total_Amount_of_Payment_USDollars', [0.25,0.5,0.75], 0.01)"
   ]
  },
  {
   "cell_type": "code",
   "execution_count": 51,
   "id": "d42c5aae-0098-49f6-adc5-8837fc0be62c",
   "metadata": {},
   "outputs": [
    {
     "name": "stdout",
     "output_type": "stream",
     "text": [
      "Total_Amount_of_Payment_USDollars: lower_bound = -3.56, upper_bound = 42.76, median = 18.37\n"
     ]
    }
   ],
   "source": [
    "# finding the IQR\n",
    "lower = val[0] - 1.5 * (val[2] - val[0])\n",
    "upper = val[2] + 1.5 * (val[2] - val[0])\n",
    "print(f'Total_Amount_of_Payment_USDollars: lower_bound = {round(lower,2)}, upper_bound = {round(upper,2)}, median = {val[1]}')"
   ]
  },
  {
   "cell_type": "code",
   "execution_count": 52,
   "id": "6eae6eb4-8952-4075-98c2-00ee1e73f589",
   "metadata": {},
   "outputs": [
    {
     "name": "stdout",
     "output_type": "stream",
     "text": [
      "+-------+---------------------------------+\n",
      "|summary|Total_Amount_of_Payment_USDollars|\n",
      "+-------+---------------------------------+\n",
      "|  count|                         13286468|\n",
      "|   mean|               286.55258530709995|\n",
      "| stddev|               106485.35637453849|\n",
      "|    min|                             0.01|\n",
      "|    max|                   2.5302441926E8|\n",
      "+-------+---------------------------------+\n",
      "\n"
     ]
    }
   ],
   "source": [
    "gp_df1.select('Total_Amount_of_Payment_USDollars').describe().show()"
   ]
  },
  {
   "cell_type": "code",
   "execution_count": 53,
   "id": "75975c69-d022-4848-b0f6-775458a1cf7c",
   "metadata": {},
   "outputs": [
    {
     "name": "stdout",
     "output_type": "stream",
     "text": [
      "Percentage of data that can be retained after deleting outliers: 83.1603277620015\n"
     ]
    }
   ],
   "source": [
    "# filtering out data above the upper bound\n",
    "data_perc = gp_df1.filter(F.col('Total_Amount_of_Payment_USDollars') <= 42.76).count()/total_count*100\n",
    "print('Percentage of data that can be retained after deleting outliers: '+str(data_perc))"
   ]
  },
  {
   "cell_type": "code",
   "execution_count": 58,
   "id": "e7b3460f-deaf-4998-a29d-22c6f35618f2",
   "metadata": {},
   "outputs": [],
   "source": [
    "# applying the filter to main dataset gp_df1\n",
    "gp_df_final = gp_df1.filter(F.col('Total_Amount_of_Payment_USDollars') <= 42.76)"
   ]
  },
  {
   "cell_type": "code",
   "execution_count": 59,
   "id": "1d685f66-a635-4c77-8a7f-78ae9ade2311",
   "metadata": {},
   "outputs": [
    {
     "name": "stdout",
     "output_type": "stream",
     "text": [
      "+-------+---------------------------------+\n",
      "|summary|Total_Amount_of_Payment_USDollars|\n",
      "+-------+---------------------------------+\n",
      "|  count|                         11049072|\n",
      "|   mean|               17.076682812819083|\n",
      "| stddev|               7.1310075798089585|\n",
      "|    min|                             0.01|\n",
      "|    max|                            42.76|\n",
      "+-------+---------------------------------+\n",
      "\n"
     ]
    }
   ],
   "source": [
    "gp_df_final.select('Total_Amount_of_Payment_USDollars').describe().show()"
   ]
  },
  {
   "cell_type": "code",
   "execution_count": 60,
   "id": "c6f0073e-b3c6-45dc-9a9d-58924e15e61c",
   "metadata": {},
   "outputs": [
    {
     "data": {
      "text/plain": [
       "11049072"
      ]
     },
     "execution_count": 60,
     "metadata": {},
     "output_type": "execute_result"
    }
   ],
   "source": [
    "gp_df_final.count()"
   ]
  },
  {
   "cell_type": "markdown",
   "id": "24de545d-0b7d-4d42-b721-ff96e8ddf099",
   "metadata": {},
   "source": [
    "## Deriving Insights"
   ]
  },
  {
   "cell_type": "markdown",
   "id": "ac8d563e-f42f-4e05-abd4-dd1b2fc31dee",
   "metadata": {},
   "source": [
    "**1. Medicare Part D Prescription Data**"
   ]
  },
  {
   "cell_type": "code",
   "execution_count": 63,
   "id": "f02c737a-a3a0-44b1-be37-a20321778816",
   "metadata": {},
   "outputs": [],
   "source": [
    "# Converting all string column values to Upper Case\n",
    "mp_df_unique = mp_df_final\n",
    "for col_name,dtype in mp_df_final.dtypes:\n",
    "    if dtype == 'string':\n",
    "        mp_df_unique = mp_df_unique.withColumn(col_name,F.upper(mp_df_unique[col_name]))"
   ]
  },
  {
   "cell_type": "code",
   "execution_count": 68,
   "id": "a4b7968b-e2c8-4fea-9992-4863b93601e7",
   "metadata": {
    "scrolled": true
   },
   "outputs": [
    {
     "data": {
      "text/plain": [
       "['Prscrbr_NPI',\n",
       " 'Prscrbr_Last_Org_Name',\n",
       " 'Prscrbr_First_Name',\n",
       " 'Prscrbr_City',\n",
       " 'Prscrbr_State_Abrvtn',\n",
       " 'Prscrbr_State_FIPS',\n",
       " 'Prscrbr_Type',\n",
       " 'Brnd_Name',\n",
       " 'Gnrc_Name',\n",
       " 'Tot_Clms',\n",
       " 'Tot_30day_Fills',\n",
       " 'Tot_Day_Suply',\n",
       " 'Tot_Drug_Cst',\n",
       " 'Tot_Benes']"
      ]
     },
     "execution_count": 68,
     "metadata": {},
     "output_type": "execute_result"
    }
   ],
   "source": [
    "mp_df_unique.columns"
   ]
  },
  {
   "cell_type": "code",
   "execution_count": 65,
   "id": "23ae2269-afd9-42c9-bd41-b001227c9038",
   "metadata": {},
   "outputs": [],
   "source": [
    "# Removing duplicate records based on the combination of 'Prscrbr_NPI', 'Brnd_Name', 'Prscrbr_City', 'Prscrbr_State_Abrvtn' cloumns\n",
    "unique_columns = ['Prscrbr_NPI', 'Brnd_Name', 'Prscrbr_City', 'Prscrbr_State_Abrvtn']\n",
    "mp_df_unique = mp_df_unique.dropDuplicates(subset=unique_columns)"
   ]
  },
  {
   "cell_type": "code",
   "execution_count": 98,
   "id": "ecbae4a1-c04c-4cfc-9eaf-e8af77b2606e",
   "metadata": {},
   "outputs": [],
   "source": [
    "# filtering records that have over 11 claims\n",
    "mp_df_unique = mp_df_unique.filter(F.col('Tot_Benes').isNotNull())"
   ]
  },
  {
   "cell_type": "code",
   "execution_count": 99,
   "id": "457051c0-c3e3-4f2b-86fe-657dbcf5eb20",
   "metadata": {},
   "outputs": [],
   "source": [
    "def to_pandas(df):\n",
    "    return df.toPandas()"
   ]
  },
  {
   "cell_type": "code",
   "execution_count": 105,
   "id": "4281848e-f11d-4618-be93-9180b458914a",
   "metadata": {},
   "outputs": [],
   "source": [
    "mp_df_unique = mp_df_unique.withColumn('Drug_Cost_per_Claim',F.round(F.col('Tot_Drug_Cst')/F.col('Tot_Clms'),2))"
   ]
  },
  {
   "cell_type": "code",
   "execution_count": 202,
   "id": "4f0f68f5-d602-40d0-bf1b-894e19da677f",
   "metadata": {
    "scrolled": true
   },
   "outputs": [],
   "source": [
    "top_drugs = mp_df_unique.groupBy(\"Brnd_Name\").agg(F.sum(\"Tot_Clms\").alias('Total_Claims')).orderBy(\"Total_Claims\", ascending=False)\n",
    "\n",
    "# Convert to Pandas for visualization\n",
    "top_drugs_pd = to_pandas(top_drugs.limit(15))"
   ]
  },
  {
   "cell_type": "code",
   "execution_count": 203,
   "id": "7f933a3f-eede-4fa6-8089-344380d8dfb2",
   "metadata": {
    "scrolled": true
   },
   "outputs": [
    {
     "data": {
      "image/png": "[encoded data removed]",
      "text/plain": [
       "<Figure size 1000x800 with 1 Axes>"
      ]
     },
     "metadata": {},
     "output_type": "display_data"
    }
   ],
   "source": [
    "plt.figure(figsize=(10, 8))\n",
    "sns.barplot(x='Total_Claims', y='Brnd_Name', data=top_drugs_pd, palette='viridis')\n",
    "plt.title('Top Brand Names by Average Drug Cost Per Claim')\n",
    "plt.xlabel('Total Claims')\n",
    "plt.ylabel('Brand Name')\n",
    "plt.grid(axis='x')"
   ]
  },
  {
   "cell_type": "markdown",
   "id": "84987916-46c3-415a-adfa-a39ba4578811",
   "metadata": {},
   "source": [
    "**Insights:**\n",
    "1. Amlodipine Besylate medication have been claimed most number of times followed by Lisinopril and Atorvastatin Calcium"
   ]
  },
  {
   "cell_type": "code",
   "execution_count": 122,
   "id": "f5f222ea-a9fc-4055-8fed-48e799e1c9fa",
   "metadata": {},
   "outputs": [],
   "source": [
    "specialty_cost = mp_df_unique.groupBy(\"Prscrbr_Type\") \\\n",
    "    .agg(F.avg(\"Drug_Cost_per_Claim\").alias(\"Avg_Cost_Per_Claim\")) \\\n",
    "    .orderBy(F.col(\"Avg_Cost_Per_Claim\").desc())"
   ]
  },
  {
   "cell_type": "code",
   "execution_count": 123,
   "id": "db5e153b-2fc6-4937-8a1d-e17b9071330d",
   "metadata": {},
   "outputs": [],
   "source": [
    "specialty_cost_pd = to_pandas(specialty_cost)"
   ]
  },
  {
   "cell_type": "code",
   "execution_count": 130,
   "id": "de7fada9-387f-4197-ade2-b986d8c0bddb",
   "metadata": {
    "scrolled": true
   },
   "outputs": [
    {
     "data": {
      "image/png": "[encoded data removed]",
      "text/plain": [
       "<Figure size 1000x600 with 1 Axes>"
      ]
     },
     "metadata": {},
     "output_type": "display_data"
    }
   ],
   "source": [
    "plt.figure(figsize=(10, 6))\n",
    "sns.barplot(x='Avg_Cost_Per_Claim', y='Prscrbr_Type', data=specialty_cost_pd[:15], palette='viridis')\n",
    "plt.title('Top Prescriber type by Average Drug Cost Per Claim')\n",
    "plt.xlabel('Average Drug Cost Per Claim ($)')\n",
    "plt.ylabel('Prescriber Type')\n",
    "plt.grid(axis='x')"
   ]
  },
  {
   "cell_type": "markdown",
   "id": "08320554-5854-40e1-a3cb-ed59a9ec8db8",
   "metadata": {},
   "source": [
    "**Insights:**\n",
    "1. Prescription type of Home Health Aid and Assisted living Facility have the highest drug cost per claim"
   ]
  },
  {
   "cell_type": "markdown",
   "id": "54b59b6c-7549-4984-8f87-c1215e248495",
   "metadata": {},
   "source": [
    "**2. 2022 General Payments Data**"
   ]
  },
  {
   "cell_type": "code",
   "execution_count": 67,
   "id": "031f6c75-b2ea-496b-a8bd-0623beb064d4",
   "metadata": {},
   "outputs": [],
   "source": [
    "# Converting column values to Upper Case for the 2nd dataset\n",
    "gp_df_unique = gp_df_final\n",
    "for col_name,dtype in gp_df_final.dtypes:\n",
    "    if dtype == 'string':\n",
    "        gp_df_unique = gp_df_unique.withColumn(col_name,F.upper(gp_df_unique[col_name]))"
   ]
  },
  {
   "cell_type": "code",
   "execution_count": 69,
   "id": "4d5ebd4e-f8a6-47a1-a39f-3b66595a6f2d",
   "metadata": {
    "scrolled": true
   },
   "outputs": [
    {
     "data": {
      "text/plain": [
       "['Covered_Recipient_Type',\n",
       " 'Covered_Recipient_Profile_ID',\n",
       " 'Covered_Recipient_NPI',\n",
       " 'Covered_Recipient_First_Name',\n",
       " 'Covered_Recipient_Last_Name',\n",
       " 'Recipient_City',\n",
       " 'Recipient_State',\n",
       " 'Covered_Recipient_Primary_Type_1',\n",
       " 'Covered_Recipient_Specialty_1',\n",
       " 'Covered_Recipient_License_State_code1',\n",
       " 'Submitting_Applicable_Manufacturer_or_Applicable_GPO_Name',\n",
       " 'Applicable_Manufacturer_or_Applicable_GPO_Making_Payment_ID',\n",
       " 'Applicable_Manufacturer_or_Applicable_GPO_Making_Payment_Name',\n",
       " 'Applicable_Manufacturer_or_Applicable_GPO_Making_Payment_State',\n",
       " 'Total_Amount_of_Payment_USDollars',\n",
       " 'Date_of_Payment',\n",
       " 'Covered_or_Noncovered_Indicator_1',\n",
       " 'Indicate_Drug_or_Biological_or_Device_or_Medical_Supply_1',\n",
       " 'Product_Category_or_Therapeutic_Area_1',\n",
       " 'Name_of_Drug_or_Biological_or_Device_or_Medical_Supply_1']"
      ]
     },
     "execution_count": 69,
     "metadata": {},
     "output_type": "execute_result"
    }
   ],
   "source": [
    "gp_df_unique.columns"
   ]
  },
  {
   "cell_type": "code",
   "execution_count": 70,
   "id": "25c0275d-243b-4c09-b462-d074a1273fbf",
   "metadata": {},
   "outputs": [],
   "source": [
    "# Dropping duplicates\n",
    "unique_columns_gp = [\n",
    "    'Covered_Recipient_NPI', \n",
    "    'Recipient_City', \n",
    "    'Recipient_State',\n",
    "    'Covered_Recipient_Primary_Type_1',\n",
    "    'Covered_Recipient_Specialty_1',\n",
    "    'Date_of_Payment', \n",
    "    'Name_of_Drug_or_Biological_or_Device_or_Medical_Supply_1',\n",
    "    'Applicable_Manufacturer_or_Applicable_GPO_Making_Payment_State',\n",
    "    'Product_Category_or_Therapeutic_Area_1',\n",
    "    'Total_Amount_of_Payment_USDollars'\n",
    "]\n",
    "gp_df_unique = gp_df_unique.dropDuplicates(subset=unique_columns_gp)"
   ]
  },
  {
   "cell_type": "code",
   "execution_count": 133,
   "id": "c6565dde-1af6-4d70-a77f-fcf584471972",
   "metadata": {},
   "outputs": [],
   "source": [
    "top_manufacturers = gp_df_unique.groupBy(\"Applicable_Manufacturer_or_Applicable_GPO_Making_Payment_Name\") \\\n",
    "    .agg(F.sum(\"Total_Amount_of_Payment_USDollars\").alias(\"Total_Payment\")) \\\n",
    "    .orderBy(F.col(\"Total_Payment\").desc())"
   ]
  },
  {
   "cell_type": "code",
   "execution_count": 134,
   "id": "43fd3df5-54c2-4204-a892-a036f28ed99f",
   "metadata": {},
   "outputs": [],
   "source": [
    "top_manufacturers_pd = to_pandas(top_manufacturers.limit(15))"
   ]
  },
  {
   "cell_type": "code",
   "execution_count": 136,
   "id": "9f65ed1a-6706-49df-8990-66db7f97a212",
   "metadata": {
    "scrolled": true
   },
   "outputs": [
    {
     "data": {
      "image/png": "[encoded data removed]",
      "text/plain": [
       "<Figure size 1000x600 with 1 Axes>"
      ]
     },
     "metadata": {},
     "output_type": "display_data"
    }
   ],
   "source": [
    "plt.figure(figsize=(10, 6))\n",
    "sns.barplot(x='Total_Payment', y='Applicable_Manufacturer_or_Applicable_GPO_Making_Payment_Name', data=top_manufacturers_pd, palette='viridis')\n",
    "plt.title('Top Manufacturers/GPO Making Payments')\n",
    "plt.xlabel('Total Payments ($)')\n",
    "plt.ylabel('Manufacturer/GPO')\n",
    "plt.grid(axis='x')"
   ]
  },
  {
   "cell_type": "markdown",
   "id": "f7e7a752-83a8-4932-94a6-97eff2b5bb49",
   "metadata": {},
   "source": [
    "**Insights**:\n",
    "1. There are extremely high amount of payments being made by ABBVIE INC. to practicioners"
   ]
  },
  {
   "cell_type": "code",
   "execution_count": 138,
   "id": "6e247aa7-d205-4016-b77c-6ffc87d3b7ac",
   "metadata": {},
   "outputs": [],
   "source": [
    "state_payments = gp_df_unique.groupBy(\"Recipient_State\") \\\n",
    "    .agg(F.sum(\"Total_Amount_of_Payment_USDollars\").alias(\"Total_Payment\")) \\\n",
    "    .orderBy(F.col(\"Total_Payment\").desc())"
   ]
  },
  {
   "cell_type": "code",
   "execution_count": 139,
   "id": "b02ccdd2-fbbd-4ab0-ad4e-dc1fe0402314",
   "metadata": {},
   "outputs": [],
   "source": [
    "state_payments_pd = to_pandas(state_payments)"
   ]
  },
  {
   "cell_type": "code",
   "execution_count": 201,
   "id": "139c12da-fdb5-4e33-b9a2-7ee84a2c8aa2",
   "metadata": {
    "scrolled": true
   },
   "outputs": [
    {
     "data": {
      "image/png": "[encoded data removed]",
      "text/plain": [
       "<Figure size 1400x800 with 1 Axes>"
      ]
     },
     "metadata": {},
     "output_type": "display_data"
    }
   ],
   "source": [
    "plt.figure(figsize=(14, 8))\n",
    "sns.barplot(x='Recipient_State', y='Total_Payment', data=state_payments_pd[:20], palette='viridis')\n",
    "plt.title('Payment distribution by Recipient state')\n",
    "plt.ylabel('Total Payments ($)')\n",
    "plt.xlabel('State')\n",
    "plt.grid(axis='y')"
   ]
  },
  {
   "cell_type": "markdown",
   "id": "629a8459-6a9b-45c5-9f40-a64be818d21c",
   "metadata": {},
   "source": [
    "**Insights**\n",
    "1. Texas, California and Florida recieve the most number of payments from manufacturers/gpo"
   ]
  },
  {
   "cell_type": "markdown",
   "id": "7dfaeb18-8f17-42ee-99b9-2dfeefc2ce15",
   "metadata": {},
   "source": [
    "## Integrating datasets"
   ]
  },
  {
   "cell_type": "code",
   "execution_count": 146,
   "id": "8ad40498-daea-4f6e-8113-c0623d24c28f",
   "metadata": {},
   "outputs": [],
   "source": [
    "# the \"Prscrbr_NPI\" column from Medical Prescription dataset and \"Covered_Recipient_NPI\" from General Payments dataset\n",
    "# can be used to combine both the datasets\n",
    "df = mp_df_unique.join(gp_df_unique, \n",
    "                      (mp_df_unique['Prscrbr_NPI'] == gp_df_unique['Covered_Recipient_NPI']) & (mp_df_unique['Prscrbr_State_Abrvtn'] == gp_df_unique['Recipient_State']),\n",
    "                      \"inner\")"
   ]
  },
  {
   "cell_type": "code",
   "execution_count": 147,
   "id": "c25d0d3c-1de0-40f1-80d4-e78a283d26b4",
   "metadata": {
    "scrolled": true
   },
   "outputs": [
    {
     "data": {
      "text/plain": [
       "[('Prscrbr_NPI', 'int'),\n",
       " ('Prscrbr_Last_Org_Name', 'string'),\n",
       " ('Prscrbr_First_Name', 'string'),\n",
       " ('Prscrbr_City', 'string'),\n",
       " ('Prscrbr_State_Abrvtn', 'string'),\n",
       " ('Prscrbr_State_FIPS', 'string'),\n",
       " ('Prscrbr_Type', 'string'),\n",
       " ('Brnd_Name', 'string'),\n",
       " ('Gnrc_Name', 'string'),\n",
       " ('Tot_Clms', 'int'),\n",
       " ('Tot_30day_Fills', 'double'),\n",
       " ('Tot_Day_Suply', 'int'),\n",
       " ('Tot_Drug_Cst', 'double'),\n",
       " ('Tot_Benes', 'int'),\n",
       " ('Drug_Cost_per_Claim', 'double'),\n",
       " ('Covered_Recipient_Type', 'string'),\n",
       " ('Covered_Recipient_Profile_ID', 'int'),\n",
       " ('Covered_Recipient_NPI', 'int'),\n",
       " ('Covered_Recipient_First_Name', 'string'),\n",
       " ('Covered_Recipient_Last_Name', 'string'),\n",
       " ('Recipient_City', 'string'),\n",
       " ('Recipient_State', 'string'),\n",
       " ('Covered_Recipient_Primary_Type_1', 'string'),\n",
       " ('Covered_Recipient_Specialty_1', 'string'),\n",
       " ('Covered_Recipient_License_State_code1', 'string'),\n",
       " ('Submitting_Applicable_Manufacturer_or_Applicable_GPO_Name', 'string'),\n",
       " ('Applicable_Manufacturer_or_Applicable_GPO_Making_Payment_ID', 'string'),\n",
       " ('Applicable_Manufacturer_or_Applicable_GPO_Making_Payment_Name', 'string'),\n",
       " ('Applicable_Manufacturer_or_Applicable_GPO_Making_Payment_State', 'string'),\n",
       " ('Total_Amount_of_Payment_USDollars', 'double'),\n",
       " ('Date_of_Payment', 'date'),\n",
       " ('Covered_or_Noncovered_Indicator_1', 'string'),\n",
       " ('Indicate_Drug_or_Biological_or_Device_or_Medical_Supply_1', 'string'),\n",
       " ('Product_Category_or_Therapeutic_Area_1', 'string'),\n",
       " ('Name_of_Drug_or_Biological_or_Device_or_Medical_Supply_1', 'string')]"
      ]
     },
     "execution_count": 147,
     "metadata": {},
     "output_type": "execute_result"
    }
   ],
   "source": [
    "df.dtypes"
   ]
  },
  {
   "cell_type": "code",
   "execution_count": 73,
   "id": "254b30d6-2a8f-44b4-a199-8fc78163a8b2",
   "metadata": {},
   "outputs": [],
   "source": [
    "# Visualization libraries\n",
    "import matplotlib.pyplot as plt\n",
    "import seaborn as sns"
   ]
  },
  {
   "cell_type": "code",
   "execution_count": 164,
   "id": "29e8d097-be3d-40d5-9938-25d36f809243",
   "metadata": {
    "scrolled": true
   },
   "outputs": [
    {
     "data": {
      "text/plain": [
       "['Prscrbr_NPI',\n",
       " 'Prscrbr_Last_Org_Name',\n",
       " 'Prscrbr_First_Name',\n",
       " 'Prscrbr_City',\n",
       " 'Prscrbr_State_Abrvtn',\n",
       " 'Prscrbr_State_FIPS',\n",
       " 'Prscrbr_Type',\n",
       " 'Brnd_Name',\n",
       " 'Gnrc_Name',\n",
       " 'Tot_Clms',\n",
       " 'Tot_30day_Fills',\n",
       " 'Tot_Day_Suply',\n",
       " 'Tot_Drug_Cst',\n",
       " 'Tot_Benes',\n",
       " 'Drug_Cost_per_Claim',\n",
       " 'Covered_Recipient_Type',\n",
       " 'Covered_Recipient_Profile_ID',\n",
       " 'Covered_Recipient_NPI',\n",
       " 'Covered_Recipient_First_Name',\n",
       " 'Covered_Recipient_Last_Name',\n",
       " 'Recipient_City',\n",
       " 'Recipient_State',\n",
       " 'Covered_Recipient_Primary_Type_1',\n",
       " 'Covered_Recipient_Specialty_1',\n",
       " 'Covered_Recipient_License_State_code1',\n",
       " 'Submitting_Applicable_Manufacturer_or_Applicable_GPO_Name',\n",
       " 'Applicable_Manufacturer_or_Applicable_GPO_Making_Payment_ID',\n",
       " 'Applicable_Manufacturer_or_Applicable_GPO_Making_Payment_Name',\n",
       " 'Applicable_Manufacturer_or_Applicable_GPO_Making_Payment_State',\n",
       " 'Total_Amount_of_Payment_USDollars',\n",
       " 'Date_of_Payment',\n",
       " 'Covered_or_Noncovered_Indicator_1',\n",
       " 'Indicate_Drug_or_Biological_or_Device_or_Medical_Supply_1',\n",
       " 'Product_Category_or_Therapeutic_Area_1',\n",
       " 'Name_of_Drug_or_Biological_or_Device_or_Medical_Supply_1']"
      ]
     },
     "execution_count": 164,
     "metadata": {},
     "output_type": "execute_result"
    }
   ],
   "source": [
    "df.columns"
   ]
  },
  {
   "cell_type": "code",
   "execution_count": 167,
   "id": "2c1b5907-7d6f-4f78-8c4c-13ff74100f9e",
   "metadata": {},
   "outputs": [],
   "source": [
    "# Only selecting columns that are neccessary to derive insights\n",
    "necc_cols = ['Prscrbr_NPI',\n",
    "             'Prscrbr_Type',\n",
    "             'Brnd_Name',\n",
    "             'Tot_Clms',\n",
    "             'Tot_Drug_Cst',\n",
    "             'Tot_Benes',\n",
    "             'Recipient_State',\n",
    "             'Applicable_Manufacturer_or_Applicable_GPO_Making_Payment_Name',\n",
    "             'Applicable_Manufacturer_or_Applicable_GPO_Making_Payment_State',\n",
    "             'Total_Amount_of_Payment_USDollars',\n",
    "             'Indicate_Drug_or_Biological_or_Device_or_Medical_Supply_1',\n",
    "             'Drug_Cost_per_Claim']\n",
    "df_final = df.select(necc_cols)"
   ]
  },
  {
   "cell_type": "code",
   "execution_count": 182,
   "id": "1a3c7f23-f33c-40d6-9bea-2d9fae5513e6",
   "metadata": {},
   "outputs": [],
   "source": [
    "# Grouping columns for better insights\n",
    "groupby_cols = ['Prscrbr_NPI',\n",
    "                'Prscrbr_Type',\n",
    "                'Brnd_Name',\n",
    "                'Recipient_State',\n",
    "                'Applicable_Manufacturer_or_Applicable_GPO_Making_Payment_Name']\n",
    "df_unique = df_final.groupby(groupby_cols).agg(\n",
    "    F.sum('Tot_Drug_Cst').alias('Total_Drug_Cost'),\n",
    "    F.sum('Total_Amount_of_Payment_USDollars').alias('Total_Payments_gp'), \n",
    "    F.sum('Tot_Clms').alias('Total_Claims')\n",
    ")"
   ]
  },
  {
   "cell_type": "code",
   "execution_count": 183,
   "id": "10bb5bb6-64f1-4d0f-a4ed-2efc86a7684e",
   "metadata": {},
   "outputs": [
    {
     "data": {
      "text/plain": [
       "['Prscrbr_NPI',\n",
       " 'Prscrbr_Type',\n",
       " 'Brnd_Name',\n",
       " 'Recipient_State',\n",
       " 'Applicable_Manufacturer_or_Applicable_GPO_Making_Payment_Name',\n",
       " 'Total_Drug_Cost',\n",
       " 'Total_Payments_gp',\n",
       " 'Total_Claims']"
      ]
     },
     "execution_count": 183,
     "metadata": {},
     "output_type": "execute_result"
    }
   ],
   "source": [
    "df_unique.columns"
   ]
  },
  {
   "cell_type": "code",
   "execution_count": 184,
   "id": "cafc36ce-57c2-4472-aadf-765be38c9caf",
   "metadata": {},
   "outputs": [
    {
     "data": {
      "text/plain": [
       "46841838"
      ]
     },
     "execution_count": 184,
     "metadata": {},
     "output_type": "execute_result"
    }
   ],
   "source": [
    "df_unique.count()"
   ]
  },
  {
   "cell_type": "code",
   "execution_count": 185,
   "id": "6344890f-a1b3-45c5-8a9b-915899575207",
   "metadata": {},
   "outputs": [],
   "source": [
    "Brand_Precription_and_Payments = df_unique.groupby(['Brnd_Name']) \\\n",
    "    .agg(F.sum('Total_Claims').alias(\"Total_Claims\"),F.sum('Total_Payments_gp').alias('Total_payments')) \\\n",
    "    .orderBy(F.desc(\"Total_payments\"))"
   ]
  },
  {
   "cell_type": "code",
   "execution_count": 186,
   "id": "ee2f5dd0-a22f-4a89-8fcf-33a48b7be4f3",
   "metadata": {},
   "outputs": [],
   "source": [
    "Brand_Precription_and_Payments_by_Drug_cost_pandas = to_pandas(Brand_Precription_and_Payments.limit(20))"
   ]
  },
  {
   "cell_type": "code",
   "execution_count": 196,
   "id": "dd704818-1612-4d59-ac5e-6ddbb551a4de",
   "metadata": {
    "scrolled": true
   },
   "outputs": [
    {
     "data": {
      "image/png": "[encoded data removed]",
      "text/plain": [
       "<Figure size 1400x800 with 2 Axes>"
      ]
     },
     "metadata": {},
     "output_type": "display_data"
    }
   ],
   "source": [
    "plt.figure(figsize=(14, 8))\n",
    "\n",
    "\n",
    "plt.subplot(1, 2, 1)\n",
    "sns.barplot(x='Total_Claims', y='Brnd_Name', data=Brand_Precription_and_Payments_by_Drug_cost_pandas, palette='viridis')\n",
    "plt.title('Total Number of Claims (by Brand)')\n",
    "plt.xlabel('Number of Claims')\n",
    "plt.ylabel('Brand')\n",
    "plt.grid(axis='x')\n",
    "\n",
    "\n",
    "plt.subplot(1, 2, 2)\n",
    "sns.barplot(x='Total_payments', y='Brnd_Name', data=Brand_Precription_and_Payments_by_Drug_cost_pandas, palette='plasma')\n",
    "plt.title('Total Payments by Brand')\n",
    "plt.xlabel('Total Payments ($)')\n",
    "plt.ylabel('Brand')\n",
    "plt.grid(axis='x')\n",
    "\n",
    "# Adjust layout and show the plot\n",
    "plt.tight_layout()\n",
    "plt.show()"
   ]
  },
  {
   "cell_type": "markdown",
   "id": "37e1c1fa-e59a-4490-93f3-aef4a0683089",
   "metadata": {},
   "source": [
    "**Insights:**\n",
    "1. High payments from Amlodipine brand to practicioners with high claims of the same brand medication infer that prescriptions precribed by practitioners may be influenced by the financial payments."
   ]
  },
  {
   "cell_type": "code",
   "execution_count": 189,
   "id": "2318022e-6245-4031-bbf7-41b23d2d2160",
   "metadata": {},
   "outputs": [],
   "source": [
    "top_manufacturers_prescribers = df_unique.groupBy(\"Applicable_Manufacturer_or_Applicable_GPO_Making_Payment_Name\") \\\n",
    "    .agg(F.sum(\"Total_Claims\").alias(\"Total_Claims\"), \n",
    "         F.sum(\"Total_Payments_gp\").alias(\"Total_Payment\")) \\\n",
    "    .orderBy(F.col(\"Total_Payment\").desc())"
   ]
  },
  {
   "cell_type": "code",
   "execution_count": 190,
   "id": "29e6dc6e-d763-45b4-af64-40f3526d6638",
   "metadata": {},
   "outputs": [],
   "source": [
    "top_manufacturers_prescribers_pd = to_pandas(top_manufacturers_prescribers)"
   ]
  },
  {
   "cell_type": "code",
   "execution_count": 194,
   "id": "ac18d659-6781-41c8-9e5c-42eb76c339b9",
   "metadata": {
    "scrolled": true
   },
   "outputs": [
    {
     "data": {
      "image/png": "[encoded data removed]",
      "text/plain": [
       "<Figure size 1800x800 with 2 Axes>"
      ]
     },
     "metadata": {},
     "output_type": "display_data"
    }
   ],
   "source": [
    "plt.figure(figsize=(18, 8))\n",
    "\n",
    "\n",
    "plt.subplot(1, 2, 1)\n",
    "sns.barplot(x='Total_Claims', y='Applicable_Manufacturer_or_Applicable_GPO_Making_Payment_Name', data=top_manufacturers_prescribers_pd[:15], palette='viridis')\n",
    "plt.title('Total Number of Claims')\n",
    "plt.xlabel('Number of Claims')\n",
    "plt.ylabel('Manufacturer/GPO')\n",
    "plt.grid(axis='y')\n",
    "\n",
    "\n",
    "plt.subplot(1, 2, 2)\n",
    "sns.barplot(x='Total_Payment', y='Applicable_Manufacturer_or_Applicable_GPO_Making_Payment_Name', data=top_manufacturers_prescribers_pd[:15], palette='plasma')\n",
    "plt.title('Total Payments Made by Manufacturer/GPO')\n",
    "plt.xlabel('Total Payments ($)')\n",
    "plt.ylabel('Manufacturer/GPO')\n",
    "plt.grid(axis='x')\n",
    "\n",
    "# Adjust layout and show the plot\n",
    "plt.tight_layout()\n",
    "plt.show()"
   ]
  },
  {
   "cell_type": "markdown",
   "id": "62e7e78a-2b85-4b57-99b6-4b53295f2fcc",
   "metadata": {},
   "source": [
    "**Insight:**\n",
    "1. There is a clear correlation between number of claims and total payments by the manufacturer/gpo"
   ]
  },
  {
   "cell_type": "code",
   "execution_count": null,
   "id": "2b184912-8449-49b5-9d29-5e601e88d89b",
   "metadata": {},
   "outputs": [],
   "source": []
  }
 ],
 "metadata": {
  "kernelspec": {
   "display_name": "Python 3 (ipykernel)",
   "language": "python",
   "name": "python3"
  },
  "language_info": {
   "codemirror_mode": {
    "name": "ipython",
    "version": 3
   },
   "file_extension": ".py",
   "mimetype": "text/x-python",
   "name": "python",
   "nbconvert_exporter": "python",
   "pygments_lexer": "ipython3",
   "version": "3.12.4"
  }
 },
 "nbformat": 4,
 "nbformat_minor": 5
}
